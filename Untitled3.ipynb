{
 "cells": [
  {
   "cell_type": "code",
   "execution_count": 1,
   "metadata": {
    "collapsed": false
   },
   "outputs": [
    {
     "ename": "ArgumentError",
     "evalue": "wrong number of arguments (0 for 1)",
     "output_type": "error",
     "traceback": [
      "\u001b[31mArgumentError\u001b[0m: wrong number of arguments (0 for 1)",
      "\u001b[37m(pry):1:in `flag'\u001b[0m",
      "\u001b[37m(pry):11:in `<main>'\u001b[0m",
      "\u001b[37m/opt/local/lib/ruby2.1/gems/2.1.0/gems/pry-0.10.4/lib/pry/pry_instance.rb:355:in `eval'\u001b[0m",
      "\u001b[37m/opt/local/lib/ruby2.1/gems/2.1.0/gems/pry-0.10.4/lib/pry/pry_instance.rb:355:in `evaluate_ruby'\u001b[0m",
      "\u001b[37m/opt/local/lib/ruby2.1/gems/2.1.0/gems/pry-0.10.4/lib/pry/pry_instance.rb:323:in `handle_line'\u001b[0m",
      "\u001b[37m/opt/local/lib/ruby2.1/gems/2.1.0/gems/pry-0.10.4/lib/pry/pry_instance.rb:243:in `block (2 levels) in eval'\u001b[0m",
      "\u001b[37m/opt/local/lib/ruby2.1/gems/2.1.0/gems/pry-0.10.4/lib/pry/pry_instance.rb:242:in `catch'\u001b[0m",
      "\u001b[37m/opt/local/lib/ruby2.1/gems/2.1.0/gems/pry-0.10.4/lib/pry/pry_instance.rb:242:in `block in eval'\u001b[0m",
      "\u001b[37m/opt/local/lib/ruby2.1/gems/2.1.0/gems/pry-0.10.4/lib/pry/pry_instance.rb:241:in `catch'\u001b[0m",
      "\u001b[37m/opt/local/lib/ruby2.1/gems/2.1.0/gems/pry-0.10.4/lib/pry/pry_instance.rb:241:in `eval'\u001b[0m",
      "\u001b[37m/Library/Zool_nfs/opt/local/lib/ruby2.1/gems/2.1.0/gems/iruby-0.2.9/lib/iruby/backend.rb:65:in `eval'\u001b[0m",
      "\u001b[37m/Library/Zool_nfs/opt/local/lib/ruby2.1/gems/2.1.0/gems/iruby-0.2.9/lib/iruby/backend.rb:12:in `eval'\u001b[0m",
      "\u001b[37m/Library/Zool_nfs/opt/local/lib/ruby2.1/gems/2.1.0/gems/iruby-0.2.9/lib/iruby/kernel.rb:87:in `execute_request'\u001b[0m",
      "\u001b[37m/Library/Zool_nfs/opt/local/lib/ruby2.1/gems/2.1.0/gems/iruby-0.2.9/lib/iruby/kernel.rb:47:in `dispatch'\u001b[0m",
      "\u001b[37m/Library/Zool_nfs/opt/local/lib/ruby2.1/gems/2.1.0/gems/iruby-0.2.9/lib/iruby/kernel.rb:37:in `run'\u001b[0m",
      "\u001b[37m/Library/Zool_nfs/opt/local/lib/ruby2.1/gems/2.1.0/gems/iruby-0.2.9/lib/iruby/command.rb:70:in `run_kernel'\u001b[0m",
      "\u001b[37m/Library/Zool_nfs/opt/local/lib/ruby2.1/gems/2.1.0/gems/iruby-0.2.9/lib/iruby/command.rb:34:in `run'\u001b[0m",
      "\u001b[37m/opt/local/lib/ruby2.1/gems/2.1.0/gems/iruby-0.2.9/bin/iruby:5:in `<top (required)>'\u001b[0m",
      "\u001b[37m/opt/local/bin/iruby:23:in `load'\u001b[0m",
      "\u001b[37m/opt/local/bin/iruby:23:in `<main>'\u001b[0m"
     ]
    }
   ],
   "source": [
    "\n",
    "  "
   ]
  },
  {
   "cell_type": "code",
   "execution_count": 2,
   "metadata": {
    "collapsed": false
   },
   "outputs": [
    {
     "ename": "ArgumentError",
     "evalue": "wrong number of arguments (0 for 1)",
     "output_type": "error",
     "traceback": [
      "\u001b[31mArgumentError\u001b[0m: wrong number of arguments (0 for 1)",
      "\u001b[37m(pry):14:in `flag'\u001b[0m",
      "\u001b[37m(pry):24:in `<main>'\u001b[0m",
      "\u001b[37m/opt/local/lib/ruby2.1/gems/2.1.0/gems/pry-0.10.4/lib/pry/pry_instance.rb:355:in `eval'\u001b[0m",
      "\u001b[37m/opt/local/lib/ruby2.1/gems/2.1.0/gems/pry-0.10.4/lib/pry/pry_instance.rb:355:in `evaluate_ruby'\u001b[0m",
      "\u001b[37m/opt/local/lib/ruby2.1/gems/2.1.0/gems/pry-0.10.4/lib/pry/pry_instance.rb:323:in `handle_line'\u001b[0m",
      "\u001b[37m/opt/local/lib/ruby2.1/gems/2.1.0/gems/pry-0.10.4/lib/pry/pry_instance.rb:243:in `block (2 levels) in eval'\u001b[0m",
      "\u001b[37m/opt/local/lib/ruby2.1/gems/2.1.0/gems/pry-0.10.4/lib/pry/pry_instance.rb:242:in `catch'\u001b[0m",
      "\u001b[37m/opt/local/lib/ruby2.1/gems/2.1.0/gems/pry-0.10.4/lib/pry/pry_instance.rb:242:in `block in eval'\u001b[0m",
      "\u001b[37m/opt/local/lib/ruby2.1/gems/2.1.0/gems/pry-0.10.4/lib/pry/pry_instance.rb:241:in `catch'\u001b[0m",
      "\u001b[37m/opt/local/lib/ruby2.1/gems/2.1.0/gems/pry-0.10.4/lib/pry/pry_instance.rb:241:in `eval'\u001b[0m",
      "\u001b[37m/Library/Zool_nfs/opt/local/lib/ruby2.1/gems/2.1.0/gems/iruby-0.2.9/lib/iruby/backend.rb:65:in `eval'\u001b[0m",
      "\u001b[37m/Library/Zool_nfs/opt/local/lib/ruby2.1/gems/2.1.0/gems/iruby-0.2.9/lib/iruby/backend.rb:12:in `eval'\u001b[0m",
      "\u001b[37m/Library/Zool_nfs/opt/local/lib/ruby2.1/gems/2.1.0/gems/iruby-0.2.9/lib/iruby/kernel.rb:87:in `execute_request'\u001b[0m",
      "\u001b[37m/Library/Zool_nfs/opt/local/lib/ruby2.1/gems/2.1.0/gems/iruby-0.2.9/lib/iruby/kernel.rb:47:in `dispatch'\u001b[0m",
      "\u001b[37m/Library/Zool_nfs/opt/local/lib/ruby2.1/gems/2.1.0/gems/iruby-0.2.9/lib/iruby/kernel.rb:37:in `run'\u001b[0m",
      "\u001b[37m/Library/Zool_nfs/opt/local/lib/ruby2.1/gems/2.1.0/gems/iruby-0.2.9/lib/iruby/command.rb:70:in `run_kernel'\u001b[0m",
      "\u001b[37m/Library/Zool_nfs/opt/local/lib/ruby2.1/gems/2.1.0/gems/iruby-0.2.9/lib/iruby/command.rb:34:in `run'\u001b[0m",
      "\u001b[37m/opt/local/lib/ruby2.1/gems/2.1.0/gems/iruby-0.2.9/bin/iruby:5:in `<top (required)>'\u001b[0m",
      "\u001b[37m/opt/local/bin/iruby:23:in `load'\u001b[0m",
      "\u001b[37m/opt/local/bin/iruby:23:in `<main>'\u001b[0m"
     ]
    }
   ],
   "source": [
    "def flag(b)\n",
    "  g=[0,1,0]\n",
    "  w=[1,1,1]\n",
    "  o=[1,0.5,0]\n",
    "[[g,g,w,w,o,o],\n",
    " [g,g,w,w,o,o],\n",
    "  [g,g,w,w,o,o]]\n",
    "end\n",
    "b=flag()\n",
    "show(b)"
   ]
  },
  {
   "cell_type": "code",
   "execution_count": null,
   "metadata": {
    "collapsed": true
   },
   "outputs": [],
   "source": [
    "def flag(c)\n",
    "  w=[1,1,1]\n",
    "  r=[1,0,0]\n",
    "  b=[0,0,1]\n",
    "[[r,r,r,r,r,r],\n",
    "[w,w,w,w,w,w],\n",
    "[b,b,b,b,b,b]]\n",
    "end\n",
    "c=flag()\n",
    "show(c)"
   ]
  }
 ],
 "metadata": {
  "kernelspec": {
   "display_name": "Ruby 2.1.9",
   "language": "ruby",
   "name": "ruby"
  },
  "language_info": {
   "file_extension": ".rb",
   "mimetype": "application/x-ruby",
   "name": "ruby",
   "version": "2.1.9"
  }
 },
 "nbformat": 4,
 "nbformat_minor": 0
}
