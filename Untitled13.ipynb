{
 "cells": [
  {
   "cell_type": "code",
   "execution_count": 1,
   "metadata": {
    "collapsed": false
   },
   "outputs": [
    {
     "ename": "SyntaxError",
     "evalue": "(pry):42: syntax error, unexpected ')', expecting keyword_end\n(pry):60: syntax error, unexpected end-of-input, expecting keyword_end",
     "output_type": "error",
     "traceback": [
      "\u001b[31mSyntaxError\u001b[0m: (pry):42: syntax error, unexpected ')', expecting keyword_end\n(pry):60: syntax error, unexpected end-of-input, expecting keyword_end",
      "\u001b[37m/opt/local/lib/ruby2.1/gems/2.1.0/gems/pry-0.10.4/lib/pry/pry_instance.rb:355:in `eval'\u001b[0m",
      "\u001b[37m/opt/local/lib/ruby2.1/gems/2.1.0/gems/pry-0.10.4/lib/pry/pry_instance.rb:355:in `evaluate_ruby'\u001b[0m",
      "\u001b[37m/Library/Zool_nfs/opt/local/lib/ruby2.1/gems/2.1.0/gems/iruby-0.2.9/lib/iruby/backend.rb:72:in `eval'\u001b[0m",
      "\u001b[37m/Library/Zool_nfs/opt/local/lib/ruby2.1/gems/2.1.0/gems/iruby-0.2.9/lib/iruby/backend.rb:12:in `eval'\u001b[0m",
      "\u001b[37m/Library/Zool_nfs/opt/local/lib/ruby2.1/gems/2.1.0/gems/iruby-0.2.9/lib/iruby/kernel.rb:87:in `execute_request'\u001b[0m",
      "\u001b[37m/Library/Zool_nfs/opt/local/lib/ruby2.1/gems/2.1.0/gems/iruby-0.2.9/lib/iruby/kernel.rb:47:in `dispatch'\u001b[0m",
      "\u001b[37m/Library/Zool_nfs/opt/local/lib/ruby2.1/gems/2.1.0/gems/iruby-0.2.9/lib/iruby/kernel.rb:37:in `run'\u001b[0m",
      "\u001b[37m/Library/Zool_nfs/opt/local/lib/ruby2.1/gems/2.1.0/gems/iruby-0.2.9/lib/iruby/command.rb:70:in `run_kernel'\u001b[0m",
      "\u001b[37m/Library/Zool_nfs/opt/local/lib/ruby2.1/gems/2.1.0/gems/iruby-0.2.9/lib/iruby/command.rb:34:in `run'\u001b[0m",
      "\u001b[37m/opt/local/lib/ruby2.1/gems/2.1.0/gems/iruby-0.2.9/bin/iruby:5:in `<top (required)>'\u001b[0m",
      "\u001b[37m/opt/local/bin/iruby:23:in `load'\u001b[0m",
      "\u001b[37m/opt/local/bin/iruby:23:in `<main>'\u001b[0m"
     ]
    }
   ],
   "source": [
    "require \"zlib\"\n",
    "def show(image)\n",
    " def chunk(type, data)\n",
    "   [data.bytesize, type, data, Zlib.crc32(type + data)].pack(\"NA4A*N\")\n",
    " end\n",
    " def make_png(raw_data)\n",
    "   height = raw_data.size\n",
    "   width = raw_data[0].size\n",
    "   s = \"\\x89PNG\\r\\n\\x1a\\n\".force_encoding(\"ascii-8bit\")\n",
    "   s1 = chunk(\"IHDR\", [width, height, 8, 2, 0, 0, 0].pack(\"NNCCCCC\"))\n",
    "   s2 = chunk(\"IDAT\", Zlib::Deflate.deflate(raw_data.map {|line|\n",
    "                        ([0] + line.flatten).pack(\"C*\") }.join))\n",
    "   s3 = chunk(\"IEND\", \"\")\n",
    "   s + s1 + s2 + s3\n",
    " end\n",
    " def to_8bit(c)\n",
    "   if c.is_a?(Array)\n",
    "     if c[0].is_a?(Numeric)\n",
    "       c.map{|e| (e * 255).to_i }\n",
    "     else\n",
    "       raise \"show(): bad array element \" + c.to_s\n",
    "     end\n",
    "   else\n",
    "     [(c * 255).to_i] * 3\n",
    "   end\n",
    " end\n",
    " if !image.is_a?(Array) || !image[0].is_a?(Array)\n",
    "   puts \"show(): not a 2d array\" ; false\n",
    " else\n",
    "   h = image.size\n",
    "   s = h < 10 ? 20 : h < 60 ? 10 : h < 400 ? 400 / h : 1\n",
    "   data = image.flat_map{|r| [r.flat_map{|c| [to_8bit(c)] * s }] * s}\n",
    "   IRuby.display make_png(data), mime: \"image/png\" ; true\n",
    " end\n",
    "end\n",
    "\n",
    "\n",
    "def mandelblot(s)\n",
    "  image=maked2d(s,s)\n",
    "  for x in 0..(s-1)\n",
    "    for y in 0..(s-1)\n",
    "      image[y][x]=b(((x-s)/50.0),(y-s/2))/50.0)\n",
    "  end\n",
    " end\n",
    " image\n",
    "end\n",
    "def b(x,y)\n",
    "  n=0\n",
    "  r=0.0\n",
    "  i=0.0\n",
    "  while r**2+i**2<4 && n<=50 do\n",
    "    oldR=r\n",
    "    oldI=i\n",
    "    n=n+1\n",
    "    r=oldR**2-oldI**2+x\n",
    "    i=2*oldR*oldI+y\n",
    "  end\n",
    "  if n==51 then 0 else [0,(50-n)/3.0,0] end\n",
    "  end\n",
    "show mandelblot(s)"
   ]
  },
  {
   "cell_type": "code",
   "execution_count": null,
   "metadata": {
    "collapsed": true
   },
   "outputs": [],
   "source": []
  }
 ],
 "metadata": {
  "kernelspec": {
   "display_name": "Ruby 2.1.9",
   "language": "ruby",
   "name": "ruby"
  },
  "language_info": {
   "file_extension": ".rb",
   "mimetype": "application/x-ruby",
   "name": "ruby",
   "version": "2.1.9"
  }
 },
 "nbformat": 4,
 "nbformat_minor": 0
}
