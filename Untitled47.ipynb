{
 "cells": [
  {
   "cell_type": "code",
   "execution_count": 2,
   "metadata": {
    "collapsed": false
   },
   "outputs": [
    {
     "name": "stdout",
     "output_type": "stream",
     "text": [
      "SyntaxError: unexpected keyword_end, expecting end-of-input\n"
     ]
    }
   ],
   "source": [
    "def make2d(height,width,value)\n",
    "  Array.new(height){Array.new(width,value)}\n",
    "end\n",
    "\n",
    "def max(x,y)\n",
    "  if x<y\n",
    "    y\n",
    "  else\n",
    "    x\n",
    "  end\n",
    "end\n",
    "\n",
    "def gain(,memo,award)\n",
    "  if memo[i][j]==-100\n",
    "    if i==0\n",
    "      if j==0\n",
    "        memo[0][0]=award[0][0]\n",
    "      else\n",
    "        memo[0][j]=gain(0,j-1,memo,award)+award[0][j]\n",
    "      end\n",
    "    else\n",
    "      if j==0\n",
    "        memo[i][0]=gain(i-1,0,memo,award)+award[i][0]\n",
    "      else\n",
    "        memo[i][j]=max(gain(i-1,j,memo,award),gain(i,j-1,memo,award))+award[i][j]\n",
    "      end\n",
    "    end\n",
    "  end\n",
    "  memo[i][j]\n",
    "end\n",
    "\n",
    "gain(2,3,memo,award)"
   ]
  },
  {
   "cell_type": "code",
   "execution_count": null,
   "metadata": {
    "collapsed": true
   },
   "outputs": [],
   "source": []
  }
 ],
 "metadata": {
  "kernelspec": {
   "display_name": "Ruby 2.1.9",
   "language": "ruby",
   "name": "ruby"
  },
  "language_info": {
   "file_extension": ".rb",
   "mimetype": "application/x-ruby",
   "name": "ruby",
   "version": "2.1.9"
  }
 },
 "nbformat": 4,
 "nbformat_minor": 0
}
