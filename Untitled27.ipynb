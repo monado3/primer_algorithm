{
 "cells": [
  {
   "cell_type": "code",
   "execution_count": 1,
   "metadata": {
    "collapsed": false
   },
   "outputs": [
    {
     "data": {
      "text/plain": [
       ":swap"
      ]
     },
     "execution_count": 1,
     "metadata": {},
     "output_type": "execute_result"
    }
   ],
   "source": [
    "def gjp(a) \n",
    "  row=a.length() \n",
    "  col=a[0].length() \n",
    "  for k in 0..(col-2) \n",
    "    max=maxrow(a,k) \n",
    "    swap(a,k,max) \n",
    "    akk=a[k][k] \n",
    "    for i in 0..(row-1) \n",
    "      if i!=k \n",
    "        aik=a[i][k] \n",
    "        for j in k..(col-1) \n",
    "        a[i][j]=a[i][j]-aik*a[k][j]\n",
    "        end \n",
    "      end \n",
    "    end \n",
    "  end \n",
    "a\n",
    "end\n",
    "\n",
    "def maxrow(a,k) \n",
    "  m=k\n",
    "  for i in (k+1)..(a.length()-1)\n",
    "    if abs(a[i][k])>abs(a[m][k])\n",
    "      m=i\n",
    "    end\n",
    "  end\n",
    "  m\n",
    "end\n",
    "\n",
    "def abs(x)\n",
    "  if x<0 then -x\n",
    "  else x\n",
    "  end\n",
    "end\n",
    "\n",
    "def swap(a,k,max)\n",
    "    m=a[max]\n",
    "    a[max]=a[k]\n",
    "    a[k]=m\n",
    "end"
   ]
  },
  {
   "cell_type": "code",
   "execution_count": 2,
   "metadata": {
    "collapsed": false
   },
   "outputs": [
    {
     "data": {
      "text/plain": [
       "[[1, -50, -3, -90], [-85, 2, -25, -6], [79, 5, 30, -1]]"
      ]
     },
     "execution_count": 2,
     "metadata": {},
     "output_type": "execute_result"
    }
   ],
   "source": [
    "a=[[1,-50,-3,-90],[-85,2,-25,-6],[79,5,30,-1]]"
   ]
  },
  {
   "cell_type": "code",
   "execution_count": 5,
   "metadata": {
    "collapsed": false
   },
   "outputs": [
    {
     "data": {
      "text/plain": [
       "[[-584198, 2469253306607488350600, 69871891162784989600416221045561687593847644955489661711538170981808, 16423733112758663987591722288329085315607799338342604176352406182728], [337319423595, -37759226766197, -1068464128786965758111843129655565300034739000863013622289080, -251147770580164202941010238768731584102801973453131672338127], [3969048006, -16776180323490481862853612, 688993254342270878816122809535593717, 161951267347913498039497379757515868]]"
      ]
     },
     "execution_count": 5,
     "metadata": {},
     "output_type": "execute_result"
    }
   ],
   "source": []
  },
  {
   "cell_type": "code",
   "execution_count": null,
   "metadata": {
    "collapsed": true
   },
   "outputs": [],
   "source": []
  },
  {
   "cell_type": "code",
   "execution_count": null,
   "metadata": {
    "collapsed": true
   },
   "outputs": [],
   "source": []
  }
 ],
 "metadata": {
  "kernelspec": {
   "display_name": "Ruby 2.1.9",
   "language": "ruby",
   "name": "ruby"
  },
  "language_info": {
   "file_extension": ".rb",
   "mimetype": "application/x-ruby",
   "name": "ruby",
   "version": "2.1.9"
  }
 },
 "nbformat": 4,
 "nbformat_minor": 0
}
