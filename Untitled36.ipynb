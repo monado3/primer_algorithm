{
 "cells": [
  {
   "cell_type": "code",
   "execution_count": 1,
   "metadata": {
    "collapsed": false
   },
   "outputs": [
    {
     "data": {
      "text/plain": [
       "[[2, 6, 5, -2], [3, -1, 4, -3], [-3, 12, -1, 8]]"
      ]
     },
     "execution_count": 1,
     "metadata": {},
     "output_type": "execute_result"
    }
   ],
   "source": [
    "def make2d(height,width,value)\n",
    "  Array.new(height){Array.new(width,value)}\n",
    "end\n",
    "\n",
    "memo=make2d(3,4,-100)\n",
    "award=[[2,6,5,-2],[3,-1,4,-3],[-3,12,-1,8]]"
   ]
  },
  {
   "cell_type": "code",
   "execution_count": 6,
   "metadata": {
    "collapsed": false
   },
   "outputs": [
    {
     "data": {
      "text/plain": [
       ":gain"
      ]
     },
     "execution_count": 6,
     "metadata": {},
     "output_type": "execute_result"
    }
   ],
   "source": [
    "def max(x,y)\n",
    "  if x<y\n",
    "    y\n",
    "  else\n",
    "    x\n",
    "  end\n",
    "end\n",
    "\n",
    "def gain(i,j,memo,award)\n",
    "  if memo[i][j]==-100\n",
    "    if i==0\n",
    "      if j==0\n",
    "        memo[0][0]=award[0][0]\n",
    "      else\n",
    "        memo[0][j]=gain(0,j-1,memo,award)+award[0][j]\n",
    "      end\n",
    "    else\n",
    "      if j==0\n",
    "        memo[i][0]=gain(i-1,0,memo,award)+award[i][0]\n",
    "      else\n",
    "        memo[i][j]=max(gain(i-1,j,memo,award),gain(i,j-1,memo,award))+award[i][j]\n",
    "      end\n",
    "    end\n",
    "  end\n",
    "  memo[i][j]\n",
    "end"
   ]
  },
  {
   "cell_type": "code",
   "execution_count": 7,
   "metadata": {
    "collapsed": false
   },
   "outputs": [
    {
     "data": {
      "text/plain": [
       "26"
      ]
     },
     "execution_count": 7,
     "metadata": {},
     "output_type": "execute_result"
    }
   ],
   "source": [
    "gain(2,3,memo,award)"
   ]
  },
  {
   "cell_type": "code",
   "execution_count": 8,
   "metadata": {
    "collapsed": false
   },
   "outputs": [
    {
     "data": {
      "text/plain": [
       "[[2, 8, 13, 11], [5, 7, 17, 14], [2, 19, 18, 26]]"
      ]
     },
     "execution_count": 8,
     "metadata": {},
     "output_type": "execute_result"
    }
   ],
   "source": [
    "memo"
   ]
  },
  {
   "cell_type": "code",
   "execution_count": null,
   "metadata": {
    "collapsed": true
   },
   "outputs": [],
   "source": []
  }
 ],
 "metadata": {
  "kernelspec": {
   "display_name": "Ruby 2.1.9",
   "language": "ruby",
   "name": "ruby"
  },
  "language_info": {
   "file_extension": ".rb",
   "mimetype": "application/x-ruby",
   "name": "ruby",
   "version": "2.1.9"
  }
 },
 "nbformat": 4,
 "nbformat_minor": 0
}
