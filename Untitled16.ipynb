{
 "cells": [
  {
   "cell_type": "code",
   "execution_count": 1,
   "metadata": {
    "collapsed": false
   },
   "outputs": [
    {
     "data": {
      "text/plain": [
       ":fib"
      ]
     },
     "execution_count": 1,
     "metadata": {},
     "output_type": "execute_result"
    }
   ],
   "source": [
    "def fib(k)\n",
    "  if k==0 || k==1 then\n",
    "    1\n",
    "  else\n",
    "    fib(k-1)+fib(k-2)\n",
    "  end\n",
    "end"
   ]
  },
  {
   "cell_type": "code",
   "execution_count": 2,
   "metadata": {
    "collapsed": false
   },
   "outputs": [
    {
     "data": {
      "text/plain": [
       "8"
      ]
     },
     "execution_count": 2,
     "metadata": {},
     "output_type": "execute_result"
    }
   ],
   "source": [
    "fib(5)"
   ]
  },
  {
   "cell_type": "code",
   "execution_count": 3,
   "metadata": {
    "collapsed": false
   },
   "outputs": [
    {
     "data": {
      "text/plain": [
       ":fibl"
      ]
     },
     "execution_count": 3,
     "metadata": {},
     "output_type": "execute_result"
    }
   ],
   "source": [
    "def fibl(k)\n",
    "  f=1\n",
    "  p1=1\n",
    "  for i in 2..k do\n",
    "    p2=p1\n",
    "    p1=f\n",
    "    f=p1+p2\n",
    "  end\n",
    "  f\n",
    "end"
   ]
  },
  {
   "cell_type": "code",
   "execution_count": 4,
   "metadata": {
    "collapsed": false
   },
   "outputs": [
    {
     "data": {
      "text/plain": [
       "8"
      ]
     },
     "execution_count": 4,
     "metadata": {},
     "output_type": "execute_result"
    }
   ],
   "source": [
    "fibl(5)"
   ]
  },
  {
   "cell_type": "code",
   "execution_count": 5,
   "metadata": {
    "collapsed": false
   },
   "outputs": [
    {
     "data": {
      "text/plain": [
       ":runfib"
      ]
     },
     "execution_count": 5,
     "metadata": {},
     "output_type": "execute_result"
    }
   ],
   "source": [
    "def runfib(k)\n",
    "  t=Time.now\n",
    "  fib(k)\n",
    "  Time.now-t\n",
    "end  "
   ]
  },
  {
   "cell_type": "code",
   "execution_count": 6,
   "metadata": {
    "collapsed": false
   },
   "outputs": [
    {
     "data": {
      "text/plain": [
       ":runfibl"
      ]
     },
     "execution_count": 6,
     "metadata": {},
     "output_type": "execute_result"
    }
   ],
   "source": [
    "def runfibl(k)\n",
    "  t=Time.now\n",
    "  fibl(k)\n",
    "  Time.now-t\n",
    "end"
   ]
  },
  {
   "cell_type": "code",
   "execution_count": 9,
   "metadata": {
    "collapsed": false
   },
   "outputs": [
    {
     "data": {
      "text/plain": [
       "0.000143"
      ]
     },
     "execution_count": 9,
     "metadata": {},
     "output_type": "execute_result"
    }
   ],
   "source": [
    "runfib(15)"
   ]
  },
  {
   "cell_type": "code",
   "execution_count": 10,
   "metadata": {
    "collapsed": false
   },
   "outputs": [
    {
     "data": {
      "text/plain": [
       "0.154584"
      ]
     },
     "execution_count": 10,
     "metadata": {},
     "output_type": "execute_result"
    }
   ],
   "source": [
    "runfib(30)"
   ]
  },
  {
   "cell_type": "code",
   "execution_count": 12,
   "metadata": {
    "collapsed": false
   },
   "outputs": [
    {
     "data": {
      "text/plain": [
       "0.245933"
      ]
     },
     "execution_count": 12,
     "metadata": {},
     "output_type": "execute_result"
    }
   ],
   "source": [
    "runfib(31)"
   ]
  },
  {
   "cell_type": "code",
   "execution_count": 16,
   "metadata": {
    "collapsed": false
   },
   "outputs": [
    {
     "data": {
      "text/plain": [
       "0.000388"
      ]
     },
     "execution_count": 16,
     "metadata": {},
     "output_type": "execute_result"
    }
   ],
   "source": [
    "runfibl(1000)"
   ]
  },
  {
   "cell_type": "code",
   "execution_count": 18,
   "metadata": {
    "collapsed": false
   },
   "outputs": [
    {
     "data": {
      "application/javascript": [
       "if(window['d3'] === undefined ||\n",
       "   window['Nyaplot'] === undefined){\n",
       "    var path = {\"d3\":\"https://cdnjs.cloudflare.com/ajax/libs/d3/3.5.5/d3.min\",\"downloadable\":\"http://cdn.rawgit.com/domitry/d3-downloadable/master/d3-downloadable\"};\n",
       "\n",
       "\n",
       "\n",
       "    var shim = {\"d3\":{\"exports\":\"d3\"},\"downloadable\":{\"exports\":\"downloadable\"}};\n",
       "\n",
       "    require.config({paths: path, shim:shim});\n",
       "\n",
       "\n",
       "require(['d3'], function(d3){window['d3']=d3;console.log('finished loading d3');require(['downloadable'], function(downloadable){window['downloadable']=downloadable;console.log('finished loading downloadable');\n",
       "\n",
       "\tvar script = d3.select(\"head\")\n",
       "\t    .append(\"script\")\n",
       "\t    .attr(\"src\", \"http://cdn.rawgit.com/domitry/Nyaplotjs/master/release/nyaplot.js\")\n",
       "\t    .attr(\"async\", true);\n",
       "\n",
       "\tscript[0][0].onload = script[0][0].onreadystatechange = function(){\n",
       "\n",
       "\n",
       "\t    var event = document.createEvent(\"HTMLEvents\");\n",
       "\t    event.initEvent(\"load_nyaplot\",false,false);\n",
       "\t    window.dispatchEvent(event);\n",
       "\t    console.log('Finished loading Nyaplotjs');\n",
       "\n",
       "\t};\n",
       "\n",
       "\n",
       "});});\n",
       "}\n"
      ],
      "text/plain": [
       "\"if(window['d3'] === undefined ||\\n   window['Nyaplot'] === undefined){\\n    var path = {\\\"d3\\\":\\\"https://cdnjs.cloudflare.com/ajax/libs/d3/3.5.5/d3.min\\\",\\\"downloadable\\\":\\\"http://cdn.rawgit.com/domitry/d3-downloadable/master/d3-downloadable\\\"};\\n\\n\\n\\n    var shim = {\\\"d3\\\":{\\\"exports\\\":\\\"d3\\\"},\\\"downloadable\\\":{\\\"exports\\\":\\\"downloadable\\\"}};\\n\\n    require.config({paths: path, shim:shim});\\n\\n\\nrequire(['d3'], function(d3){window['d3']=d3;console.log('finished loading d3');require(['downloadable'], function(downloadable){window['downloadable']=downloadable;console.log('finished loading downloadable');\\n\\n\\tvar script = d3.select(\\\"head\\\")\\n\\t    .append(\\\"script\\\")\\n\\t    .attr(\\\"src\\\", \\\"http://cdn.rawgit.com/domitry/Nyaplotjs/master/release/nyaplot.js\\\")\\n\\t    .attr(\\\"async\\\", true);\\n\\n\\tscript[0][0].onload = script[0][0].onreadystatechange = function(){\\n\\n\\n\\t    var event = document.createEvent(\\\"HTMLEvents\\\");\\n\\t    event.initEvent(\\\"load_nyaplot\\\",false,false);\\n\\t    window.dispatchEvent(event);\\n\\t    console.log('Finished loading Nyaplotjs');\\n\\n\\t};\\n\\n\\n});});\\n}\\n\""
      ]
     },
     "metadata": {},
     "output_type": "display_data"
    },
    {
     "data": {
      "text/plain": [
       "true"
      ]
     },
     "execution_count": 18,
     "metadata": {},
     "output_type": "execute_result"
    }
   ],
   "source": [
    "require'nyaplot'"
   ]
  },
  {
   "cell_type": "code",
   "execution_count": 44,
   "metadata": {
    "collapsed": false
   },
   "outputs": [
    {
     "data": {
      "text/plain": [
       ":plot"
      ]
     },
     "execution_count": 44,
     "metadata": {},
     "output_type": "execute_result"
    }
   ],
   "source": [
    "def plot(k)\n",
    "  x=[0]\n",
    "  y=[runfib(0)]\n",
    "  for s in 1..k\n",
    "    x=x+[s]\n",
    "    y=y+[runfib(s)]\n",
    "  end\n",
    "  plot=Nyaplot::Plot.new\n",
    "    plot.add(:scatter,x,y)\n",
    "    plot.show\n",
    "end    "
   ]
  },
  {
   "cell_type": "code",
   "execution_count": 49,
   "metadata": {
    "collapsed": false
   },
   "outputs": [
    {
     "data": {
      "text/html": [
       "<div id='vis-20269fd6-17b1-49d5-9b51-a1f1f56eb363'></div>\n",
       "<script>\n",
       "(function(){\n",
       "    var render = function(){\n",
       "        var model = {\"panes\":[{\"diagrams\":[{\"type\":\"scatter\",\"options\":{\"x\":\"data0\",\"y\":\"data1\"},\"data\":\"cee20b32-5dce-4ede-a1fb-6a7fe7c8a0c4\"}],\"options\":{\"zoom\":true,\"width\":700,\"xrange\":[0,30],\"yrange\":[0.0,0.161374]}}],\"data\":{\"cee20b32-5dce-4ede-a1fb-6a7fe7c8a0c4\":[{\"data0\":0,\"data1\":2.0e-06},{\"data0\":1,\"data1\":0.0},{\"data0\":2,\"data1\":1.0e-06},{\"data0\":3,\"data1\":1.0e-06},{\"data0\":4,\"data1\":1.0e-06},{\"data0\":5,\"data1\":1.0e-06},{\"data0\":6,\"data1\":1.0e-06},{\"data0\":7,\"data1\":3.0e-06},{\"data0\":8,\"data1\":4.0e-06},{\"data0\":9,\"data1\":6.0e-06},{\"data0\":10,\"data1\":1.1e-05},{\"data0\":11,\"data1\":1.7e-05},{\"data0\":12,\"data1\":2.7e-05},{\"data0\":13,\"data1\":4.3e-05},{\"data0\":14,\"data1\":8.1e-05},{\"data0\":15,\"data1\":0.00012},{\"data0\":16,\"data1\":0.000198},{\"data0\":17,\"data1\":0.000323},{\"data0\":18,\"data1\":0.000512},{\"data0\":19,\"data1\":0.000807},{\"data0\":20,\"data1\":0.001379},{\"data0\":21,\"data1\":0.002136},{\"data0\":22,\"data1\":0.004049},{\"data0\":23,\"data1\":0.005476},{\"data0\":24,\"data1\":0.008645},{\"data0\":25,\"data1\":0.013888},{\"data0\":26,\"data1\":0.023024},{\"data0\":27,\"data1\":0.036629},{\"data0\":28,\"data1\":0.058509},{\"data0\":29,\"data1\":0.094292},{\"data0\":30,\"data1\":0.161374}]},\"extension\":[]}\n",
       "        var id_name = '#vis-20269fd6-17b1-49d5-9b51-a1f1f56eb363';\n",
       "        Nyaplot.core.parse(model, id_name);\n",
       "\n",
       "        require(['downloadable'], function(downloadable){\n",
       "          var svg = d3.select(id_name).select(\"svg\");\n",
       "\t  if(!svg.empty())\n",
       "\t    svg.call(downloadable().filename('fig'));\n",
       "\t});\n",
       "    };\n",
       "    if(window['Nyaplot']==undefined){\n",
       "        window.addEventListener('load_nyaplot', render, false);\n",
       "\treturn;\n",
       "    } else {\n",
       "       render();\n",
       "    }\n",
       "})();\n",
       "</script>\n"
      ],
      "text/plain": [
       "#<Nyaplot::Frame:0x007faf041f2100 @properties={:panes=>[#<Nyaplot::Plot:0x007faf0315cc50 @properties={:diagrams=>[#<Nyaplot::Diagram:0x007faf041f2650 @properties={:type=>:scatter, :options=>{:x=>\"data0\", :y=>\"data1\"}, :data=>\"cee20b32-5dce-4ede-a1fb-6a7fe7c8a0c4\"}, @xrange=[0, 30], @yrange=[0.0, 0.161374]>], :options=>{:zoom=>true, :width=>700, :xrange=>[0, 30], :yrange=>[0.0, 0.161374]}}>], :data=>{\"cee20b32-5dce-4ede-a1fb-6a7fe7c8a0c4\"=>#<Nyaplot::DataFrame:0x007faf0315c750 @name=\"cee20b32-5dce-4ede-a1fb-6a7fe7c8a0c4\", @rows=[{:data0=>0, :data1=>2.0e-06}, {:data0=>1, :data1=>0.0}, {:data0=>2, :data1=>1.0e-06}, {:data0=>3, :data1=>1.0e-06}, {:data0=>4, :data1=>1.0e-06}, {:data0=>5, :data1=>1.0e-06}, {:data0=>6, :data1=>1.0e-06}, {:data0=>7, :data1=>3.0e-06}, {:data0=>8, :data1=>4.0e-06}, {:data0=>9, :data1=>6.0e-06}, {:data0=>10, :data1=>1.1e-05}, {:data0=>11, :data1=>1.7e-05}, {:data0=>12, :data1=>2.7e-05}, {:data0=>13, :data1=>4.3e-05}, {:data0=>14, :data1=>8.1e-05}, {:data0=>15, :data1=>0.00012}, {:data0=>16, :data1=>0.000198}, {:data0=>17, :data1=>0.000323}, {:data0=>18, :data1=>0.000512}, {:data0=>19, :data1=>0.000807}, {:data0=>20, :data1=>0.001379}, {:data0=>21, :data1=>0.002136}, {:data0=>22, :data1=>0.004049}, {:data0=>23, :data1=>0.005476}, {:data0=>24, :data1=>0.008645}, {:data0=>25, :data1=>0.013888}, {:data0=>26, :data1=>0.023024}, {:data0=>27, :data1=>0.036629}, {:data0=>28, :data1=>0.058509}, {:data0=>29, :data1=>0.094292}, {:data0=>30, :data1=>0.161374}]>}, :extension=>[]}>"
      ]
     },
     "metadata": {},
     "output_type": "display_data"
    }
   ],
   "source": [
    "plot(30)"
   ]
  },
  {
   "cell_type": "code",
   "execution_count": null,
   "metadata": {
    "collapsed": true
   },
   "outputs": [],
   "source": []
  }
 ],
 "metadata": {
  "kernelspec": {
   "display_name": "Ruby 2.1.9",
   "language": "ruby",
   "name": "ruby"
  },
  "language_info": {
   "file_extension": ".rb",
   "mimetype": "application/x-ruby",
   "name": "ruby",
   "version": "2.1.9"
  }
 },
 "nbformat": 4,
 "nbformat_minor": 0
}
