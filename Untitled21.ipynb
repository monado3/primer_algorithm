{
 "cells": [
  {
   "cell_type": "code",
   "execution_count": 1,
   "metadata": {
    "collapsed": false
   },
   "outputs": [
    {
     "data": {
      "text/plain": [
       ":show"
      ]
     },
     "execution_count": 1,
     "metadata": {},
     "output_type": "execute_result"
    }
   ],
   "source": [
    "require \"zlib\"\n",
    "def show(image)\n",
    " def chunk(type, data)\n",
    "   [data.bytesize, type, data, Zlib.crc32(type + data)].pack(\"NA4A*N\")\n",
    " end\n",
    " def make_png(raw_data)\n",
    "   height = raw_data.size\n",
    "   width = raw_data[0].size\n",
    "   s = \"\\x89PNG\\r\\n\\x1a\\n\".force_encoding(\"ascii-8bit\")\n",
    "   s1 = chunk(\"IHDR\", [width, height, 8, 2, 0, 0, 0].pack(\"NNCCCCC\"))\n",
    "   s2 = chunk(\"IDAT\", Zlib::Deflate.deflate(raw_data.map {|line|\n",
    "                        ([0] + line.flatten).pack(\"C*\") }.join))\n",
    "   s3 = chunk(\"IEND\", \"\")\n",
    "   s + s1 + s2 + s3\n",
    " end\n",
    " def to_8bit(c)\n",
    "   if c.is_a?(Array)\n",
    "     if c[0].is_a?(Numeric)\n",
    "       c.map{|e| (e * 255).to_i }\n",
    "     else\n",
    "       raise \"show(): bad array element \" + c.to_s\n",
    "     end\n",
    "   else\n",
    "     [(c * 255).to_i] * 3\n",
    "   end\n",
    " end\n",
    " if !image.is_a?(Array) || !image[0].is_a?(Array)\n",
    "   puts \"show(): not a 2d array\" ; false\n",
    " else\n",
    "   h = image.size\n",
    "   s = h < 10 ? 20 : h < 60 ? 10 : h < 400 ? 400 / h : 1\n",
    "   data = image.flat_map{|r| [r.flat_map{|c| [to_8bit(c)] * s }] * s}\n",
    "   IRuby.display make_png(data), mime: \"image/png\" ; true\n",
    " end\n",
    "end"
   ]
  },
  {
   "cell_type": "code",
   "execution_count": 9,
   "metadata": {
    "collapsed": false
   },
   "outputs": [
    {
     "data": {
      "text/plain": [
       ":simplesort"
      ]
     },
     "execution_count": 9,
     "metadata": {},
     "output_type": "execute_result"
    }
   ],
   "source": [
    "def min_index(a,i)\n",
    "  k=i\n",
    "  for j in (i+1)..(a.length()-1)\n",
    "    if a[j]<a[k] \n",
    "      then\n",
    "      k=j \n",
    "        else\n",
    "      k=k\n",
    "    end\n",
    "  end\n",
    "  k\n",
    "end\n",
    "  \n",
    "def simplesort(a) \n",
    "  for i in 0.. (a.length()-1) \n",
    "    k=min_index(a,i)\n",
    "    v=a[i]\n",
    "    a[i] = a[k] \n",
    "    a[k] = v\n",
    "  end\n",
    "  a\n",
    "end"
   ]
  },
  {
   "cell_type": "code",
   "execution_count": 13,
   "metadata": {
    "collapsed": false
   },
   "outputs": [
    {
     "data": {
      "text/plain": [
       "[0, 0.1, 0.4, 0.5, 0.9, 1]"
      ]
     },
     "execution_count": 13,
     "metadata": {},
     "output_type": "execute_result"
    }
   ],
   "source": [
    "a=[0.9,0.4,0.5,0.1,1,0]\n",
    "b = simplesort(a) \n",
    "b"
   ]
  },
  {
   "cell_type": "code",
   "execution_count": null,
   "metadata": {
    "collapsed": true
   },
   "outputs": [],
   "source": []
  }
 ],
 "metadata": {
  "kernelspec": {
   "display_name": "Ruby 2.1.9",
   "language": "ruby",
   "name": "ruby"
  },
  "language_info": {
   "file_extension": ".rb",
   "mimetype": "application/x-ruby",
   "name": "ruby",
   "version": "2.1.9"
  }
 },
 "nbformat": 4,
 "nbformat_minor": 0
}
