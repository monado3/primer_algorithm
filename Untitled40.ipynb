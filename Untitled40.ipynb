{
 "cells": [
  {
   "cell_type": "code",
   "execution_count": 5,
   "metadata": {
    "collapsed": false
   },
   "outputs": [
    {
     "data": {
      "text/plain": [
       ":max"
      ]
     },
     "execution_count": 5,
     "metadata": {},
     "output_type": "execute_result"
    }
   ],
   "source": [
    "def make2d(height,width,value)\n",
    "  Array.new(height){Array.new(width,value)}\n",
    "end\n",
    "\n",
    "award=[[2,6,5,-2],[3,-1,4,-3],[-3,12,-1,8]]\n",
    "\n",
    "b=award\n",
    "m=b.length()\n",
    "n=b[0].length()\n",
    "a=make2d(m,n,0)\n",
    "\n",
    "def max(x,y)\n",
    "  if x<y\n",
    "    y\n",
    "  else\n",
    "    x\n",
    "  end\n",
    "end"
   ]
  },
  {
   "cell_type": "code",
   "execution_count": null,
   "metadata": {
    "collapsed": true
   },
   "outputs": [],
   "source": []
  }
 ],
 "metadata": {
  "kernelspec": {
   "display_name": "Ruby 2.1.9",
   "language": "ruby",
   "name": "ruby"
  },
  "language_info": {
   "file_extension": ".rb",
   "mimetype": "application/x-ruby",
   "name": "ruby",
   "version": "2.1.9"
  }
 },
 "nbformat": 4,
 "nbformat_minor": 0
}
