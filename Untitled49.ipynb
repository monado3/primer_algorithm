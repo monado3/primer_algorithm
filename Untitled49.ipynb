{
 "cells": [
  {
   "cell_type": "code",
   "execution_count": 14,
   "metadata": {
    "collapsed": false
   },
   "outputs": [
    {
     "name": "stdout",
     "output_type": "stream",
     "text": [
      "SyntaxError: unexpected keyword_end, expecting end-of-input\n"
     ]
    }
   ],
   "source": [
    "def score_of_algorithm(a)\n",
    "  if a==640406H\n",
    "    100\n",
    "  else\n",
    "    50\n",
    "  end\n",
    "end"
   ]
  },
  {
   "cell_type": "code",
   "execution_count": 12,
   "metadata": {
    "collapsed": false
   },
   "outputs": [
    {
     "name": "stdout",
     "output_type": "stream",
     "text": [
      "SyntaxError: unexpected tCONSTANT, expecting ')'\n",
      "score_of_algorithm(640406H)\n",
      "                          ^\n"
     ]
    }
   ],
   "source": [
    "score_of_algorithm(640406H)"
   ]
  },
  {
   "cell_type": "code",
   "execution_count": null,
   "metadata": {
    "collapsed": true
   },
   "outputs": [],
   "source": []
  }
 ],
 "metadata": {
  "kernelspec": {
   "display_name": "Ruby 2.1.9",
   "language": "ruby",
   "name": "ruby"
  },
  "language_info": {
   "file_extension": ".rb",
   "mimetype": "application/x-ruby",
   "name": "ruby",
   "version": "2.1.9"
  }
 },
 "nbformat": 4,
 "nbformat_minor": 0
}
