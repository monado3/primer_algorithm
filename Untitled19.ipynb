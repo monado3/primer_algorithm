{
 "cells": [
  {
   "cell_type": "code",
   "execution_count": 2,
   "metadata": {
    "collapsed": false
   },
   "outputs": [
    {
     "data": {
      "text/plain": [
       "[[2, 3], [2.0e-06, 1.0e-06]]"
      ]
     },
     "execution_count": 2,
     "metadata": {},
     "output_type": "execute_result"
    }
   ],
   "source": [
    "def manyfibs(m,n) \n",
    "  manyfibs2([[],[]],m,n) \n",
    "end \n",
    "\n",
    "def manyfibs2(results,m,n) \n",
    "  if m>n then \n",
    "    results \n",
    "  else \n",
    "    r=[results[0]+[m],\n",
    "    results[1]+[runfib(m)]]\n",
    "    manyfibs2(r,m+1,n) \n",
    "  end \n",
    "end \n",
    "\n",
    "def fib(k) \n",
    "  if k==0||k==1 then \n",
    "    1 \n",
    "  else \n",
    "    fib(k-1)+fib(k-2) \n",
    "  end \n",
    "end \n",
    "\n",
    "def runfib(k) \n",
    "  t=Time.now \n",
    "  fib(k) \n",
    "  Time.now-t \n",
    "end \n",
    "\n",
    "manyfibs(2,3) "
   ]
  },
  {
   "cell_type": "code",
   "execution_count": 3,
   "metadata": {
    "collapsed": false
   },
   "outputs": [
    {
     "data": {
      "text/plain": [
       ":matpower"
      ]
     },
     "execution_count": 3,
     "metadata": {},
     "output_type": "execute_result"
    }
   ],
   "source": [
    "def matmult(a,b) \n",
    "  [[a[0][0]*b[0][0]+a[0][1]*b[1][0],a[0][0]*b[0][1]+a[0][1]*b[1][1]],[a[1][0]*b[O][O]+a[1][1]*b[1][0],a[1][0]*b[0][1]+a[1][1]*b[1][1]]] \n",
    "end \n",
    "def fib1(k) \n",
    "  q=[[1,1],[1,0]] \n",
    "  m=matpower(q,k) \n",
    "  m[1][0]+m[1][1] \n",
    "end \n",
    "\n",
    "def matsquare(a) \n",
    "  matmult(a,a) \n",
    "end \n",
    "def matpower(q,n) \n",
    "  if n==1 \n",
    "    q\n",
    "  elsif n%2==0 \n",
    "    matsquare(matpower(q,n/2)) \n",
    "  else matmult(q,matpower(q,n-1)) \n",
    "   end \n",
    "end  "
   ]
  },
  {
   "cell_type": "code",
   "execution_count": 4,
   "metadata": {
    "collapsed": false
   },
   "outputs": [
    {
     "data": {
      "text/plain": [
       ":matpower2"
      ]
     },
     "execution_count": 4,
     "metadata": {},
     "output_type": "execute_result"
    }
   ],
   "source": [
    "def fib2(k) \n",
    "  q=[[1,1],[1,0]] \n",
    "  m=matpower2(q,k) \n",
    "  m[1][0]+m[1][1] \n",
    "end \n",
    " def matpower2(q,n) \n",
    "   result=[[1,0],[0,1]] \n",
    "   for i in 1..n \n",
    "     result=matmult(q,result) \n",
    "  end \n",
    "   result \n",
    "end"
   ]
  },
  {
   "cell_type": "code",
   "execution_count": 5,
   "metadata": {
    "collapsed": false
   },
   "outputs": [
    {
     "data": {
      "text/plain": [
       "3.0e-06"
      ]
     },
     "execution_count": 5,
     "metadata": {},
     "output_type": "execute_result"
    }
   ],
   "source": [
    "runfib(5)"
   ]
  },
  {
   "cell_type": "code",
   "execution_count": null,
   "metadata": {
    "collapsed": true
   },
   "outputs": [],
   "source": []
  }
 ],
 "metadata": {
  "kernelspec": {
   "display_name": "Ruby 2.1.9",
   "language": "ruby",
   "name": "ruby"
  },
  "language_info": {
   "file_extension": ".rb",
   "mimetype": "application/x-ruby",
   "name": "ruby",
   "version": "2.1.9"
  }
 },
 "nbformat": 4,
 "nbformat_minor": 0
}
