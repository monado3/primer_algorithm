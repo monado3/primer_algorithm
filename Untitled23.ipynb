{
 "cells": [
  {
   "cell_type": "code",
   "execution_count": 1,
   "metadata": {
    "collapsed": false
   },
   "outputs": [
    {
     "data": {
      "text/plain": [
       ":show"
      ]
     },
     "execution_count": 1,
     "metadata": {},
     "output_type": "execute_result"
    }
   ],
   "source": [
    "require \"zlib\"\n",
    "def show(image)\n",
    " def chunk(type, data)\n",
    "   [data.bytesize, type, data, Zlib.crc32(type + data)].pack(\"NA4A*N\")\n",
    " end\n",
    " def make_png(raw_data)\n",
    "   height = raw_data.size\n",
    "   width = raw_data[0].size\n",
    "   s = \"\\x89PNG\\r\\n\\x1a\\n\".force_encoding(\"ascii-8bit\")\n",
    "   s1 = chunk(\"IHDR\", [width, height, 8, 2, 0, 0, 0].pack(\"NNCCCCC\"))\n",
    "   s2 = chunk(\"IDAT\", Zlib::Deflate.deflate(raw_data.map {|line|\n",
    "                        ([0] + line.flatten).pack(\"C*\") }.join))\n",
    "   s3 = chunk(\"IEND\", \"\")\n",
    "   s + s1 + s2 + s3\n",
    " end\n",
    " def to_8bit(c)\n",
    "   if c.is_a?(Array)\n",
    "     if c[0].is_a?(Numeric)\n",
    "       c.map{|e| (e * 255).to_i }\n",
    "     else\n",
    "       raise \"show(): bad array element \" + c.to_s\n",
    "     end\n",
    "   else\n",
    "     [(c * 255).to_i] * 3\n",
    "   end\n",
    " end\n",
    " if !image.is_a?(Array) || !image[0].is_a?(Array)\n",
    "   puts \"show(): not a 2d array\" ; false\n",
    " else\n",
    "   h = image.size\n",
    "   s = h < 10 ? 20 : h < 60 ? 10 : h < 400 ? 400 / h : 1\n",
    "   data = image.flat_map{|r| [r.flat_map{|c| [to_8bit(c)] * s }] * s}\n",
    "   IRuby.display make_png(data), mime: \"image/png\" ; true\n",
    " end\n",
    "end"
   ]
  },
  {
   "cell_type": "code",
   "execution_count": 14,
   "metadata": {
    "collapsed": false
   },
   "outputs": [
    {
     "data": {
      "text/plain": [
       ":make_green"
      ]
     },
     "execution_count": 14,
     "metadata": {},
     "output_type": "execute_result"
    }
   ],
   "source": [
    "def make_green(n) \n",
    "  Array.new(n){[rand(0)/100,rand(0),0]}\n",
    "end"
   ]
  },
  {
   "cell_type": "code",
   "execution_count": 19,
   "metadata": {
    "collapsed": false
   },
   "outputs": [
    {
     "data": {
      "text/plain": [
       ":min_index"
      ]
     },
     "execution_count": 19,
     "metadata": {},
     "output_type": "execute_result"
    }
   ],
   "source": [
    "def min_index(a,i)\n",
    "  k=i\n",
    "  for j in (i+1)..(a.length()-1)\n",
    "    if a[j][1]<a[k][1]\n",
    "      k=j \n",
    "    end\n",
    "  end\n",
    "  k\n",
    "end"
   ]
  },
  {
   "cell_type": "code",
   "execution_count": 5,
   "metadata": {
    "collapsed": false
   },
   "outputs": [
    {
     "data": {
      "text/plain": [
       ":simplesort2"
      ]
     },
     "execution_count": 5,
     "metadata": {},
     "output_type": "execute_result"
    }
   ],
   "source": [
    "def simplesort2(a) \n",
    "  for i in 0.. (a.length()-1) \n",
    "    k=min_index(a,i)\n",
    "    v=a[i]\n",
    "    a[i] = a[k] \n",
    "    a[k] = v\n",
    "  end\n",
    "  a\n",
    "end"
   ]
  },
  {
   "cell_type": "code",
   "execution_count": 7,
   "metadata": {
    "collapsed": false
   },
   "outputs": [
    {
     "data": {
      "text/plain": [
       ":show_green"
      ]
     },
     "execution_count": 7,
     "metadata": {},
     "output_type": "execute_result"
    }
   ],
   "source": [
    "def show_green(a)\n",
    "  show([a])\n",
    "  a\n",
    "end"
   ]
  },
  {
   "cell_type": "code",
   "execution_count": 21,
   "metadata": {
    "collapsed": false
   },
   "outputs": [
    {
     "data": {
      "image/png": "[encoded data removed]",
      "text/plain": [
       "\"\\x89PNG\\r\\n\\x1A\\n\\x00\\x00\\x00\\rIHDR\\x00\\x00\\a\\xD0\\x00\\x00\\x00\\x14\\b\\x02\\x00\\x00\\x00Z\\x841\\x02\\x00\\x00\\x03\\xFDIDATx\\x9C\\xED\\xD8\\xBF\\xEA\\xC8a\\x18\\a\\xD0\\xF7y7,\\x06aQJ\\x06\\x8BE\\\\\\x81I\\x19\\x8C(3%\\x83\\x81d\\x90\\xB2\\\"\\x8A\\\"\\v\\x16\\x16BV\\xA5\\xD8(\\x92Hf)\\e%\\xF9SnA\\x9Fg\\xF8}\\xD5\\xA9s\\x15g\\xD4\\xAA\\x11\\e\\r\\xB5:7\\xD64\\xAC\\xCD\\xCDu\\xB9\\xB1\\xBEaC\\xC3\\xC6\\\\mj\\xD8\\x9C\\e[r\\xB5\\xB5a[\\xC3\\xF6\\xDC\\xDC\\xD1\\xB037v\\xE5jw\\xC3\\x9E\\xDC\\xD8\\x9B\\x9B\\xFBrc\\x7F\\xAE\\x0E4\\x1C\\xCC\\x8DC\\r\\x87s\\xB3\\xE3Hn\\x1C\\xCD\\xCDc\\xB9:\\x9E\\e'ru27O\\xE5\\xC6\\xE9\\xDC<\\xD3p67\\xCE\\xE5\\xEA|n4\\xD4\\x85\\x86\\x8B\\xB9\\xD9P\\x97\\x1A.\\xE7\\xE6\\x95\\x86\\xAB\\xB9q-W\\r\\xF3\\xFA\\xCA\\xA8\\e\\xB9q\\xB3\\xE1V\\xAEn\\xE7\\xE6\\x9D\\\\\\xDD\\xCD\\xCD{\\xB9\\xBA\\x9F\\x9B\\r\\xF5 7\\x1F\\xE6\\xC6\\xA3\\\\=\\xCE\\x8D\\x8E'+\\xA3\\x9E6<\\xCB\\xCD\\x86z\\x9E\\e/\\x1A^\\xE6\\xAAa\\xBCZ!\\xAF\\e\\xDE\\xE4\\xEAmn\\xBE\\xCB\\xD5\\xFB\\xDC\\xF8\\x90\\x9B\\x1Fs\\xF5)7>\\xE7\\xAAa|i\\xF8\\xDA\\xF0-W\\xDF\\e~4\\xFC\\xFC\\xFF\\xCC\\x86\\xF1+W\\x1D\\xBFs\\xE3O\\x83p\\x17\\xEE\\xC2]\\xB8\\vw\\xE1.\\xDC\\x85\\xBBp\\x17\\xEE\\xC2]\\xB8\\vw\\xE1.\\xDC\\x85\\xBBp\\x17\\xEE\\xC2]\\xB8\\vw\\xE1.\\xDC\\x85\\xBBp\\x17\\xEE\\xC2]\\xB8\\vw\\xE1.\\xDC\\x85\\xBBp\\x17\\xEE\\xC2]\\xB8\\vw\\xE1.\\xDC\\x85\\xBBp\\x17\\xEE\\xC2]\\xB8\\vw\\xE1.\\xDC\\x85\\xBBp\\x17\\xEE\\xC2]\\xB8\\vw\\xE1.\\xDC\\x85\\xBBp\\x17\\xEE\\xC2]\\xB8\\vw\\xE1.\\xDC\\x85\\xBBp\\x17\\xEE\\xC2]\\xB8/\\x9Bp\\x17\\xEE\\xC2]\\xB8\\vw\\xE1.\\xDC\\x85\\xBBp\\x17\\xEE\\xC2]\\xB8\\vw\\xE1.\\xDC\\x85\\xBBp\\x17\\xEE\\xC2]\\xB8\\vw\\xE1.\\xDC\\x85\\xBBp\\x17\\xEE\\xC2]\\xB8\\vw\\xE1.\\xDC\\x85\\xBBp\\x17\\xEE\\xC2]\\xB8\\vw\\xE1.\\xDC\\x85\\xBBp\\x17\\xEE\\xC2]\\xB8\\vw\\xE1\\xBE\\f\\xC2]\\xB8\\vw\\xE1.\\xDC\\x85\\xBBp\\x17\\xEE\\xC2]\\xB8\\vw\\xE1.\\xDC\\x85\\xBBp\\x17\\xEE\\xC2]\\xB8\\vw\\xE1.\\xDC\\x85\\xBBp\\x17\\xEE\\xC2]\\xB8\\vw\\xE1.\\xDC\\x85\\xBBp\\x17\\xEE\\xC2]\\xB8\\vw\\xE1.\\xDC\\x85\\xBBp\\x17\\xEE\\xC2]\\xB8\\vw\\xE1.\\xDC\\x85\\xFB2\\bw\\xE1.\\xDC\\x85\\xBBp\\x17\\xEE\\xC2]\\xB8\\vw\\xE1.\\xDC\\x85\\xBBp\\x17\\xEE\\xC2]\\xB8\\vw\\xE1.\\xDC\\x85\\xBBp\\x17\\xEE\\xC2]\\xB8\\vw\\xE1.\\xDC\\x85\\xBBp\\x17\\xEE\\xC2]\\xB8\\vw\\xE1.\\xDC\\x85\\xBBp\\x17\\xEE\\xC2]\\xB8\\vw\\xE1.\\xDC\\x85\\xBBp\\x17\\xEE\\xCB \\xDC\\x85\\xBBp\\x17\\xEE\\xC2]\\xB8\\vw\\xE1.\\xDC\\x85\\xBBp\\x17\\xEE\\xC2]\\xB8\\vw\\xE1.\\xDC\\x85\\xBBp\\x17\\xEE\\xC2]\\xB8\\vw\\xE1.\\xDC\\x85\\xBBp\\x17\\xEE\\xC2]\\xB8\\vw\\xE1.\\xDC\\x85\\xBBp\\x17\\xEE\\xC2]\\xB8\\vw\\xE1.\\xDC\\x85\\xBBp\\x17\\xEE\\xC2]\\xB8/\\x83p\\x17\\xEE\\xC2]\\xB8\\vw\\xE1.\\xDC\\x85\\xBBp\\x17\\xEE\\xC2]\\xB8\\vw\\xE1.\\xDC\\x85\\xBBp\\x17\\xEE\\xC2]\\xB8\\vw\\xE1.\\xDC\\x85\\xBBp\\x17\\xEE\\xC2]\\xB8\\vw\\xE1.\\xDC\\x85\\xBBp\\x17\\xEE\\xC2]\\xB8\\vw\\xE1.\\xDC\\x85\\xBBp\\x17\\xEE\\xC2]\\xB8\\vw\\xE1\\xBE\\f\\xC2]\\xB8\\vw\\xE1.\\xDC\\x85\\xBBp\\x17\\xEE\\xC2]\\xB8\\vw\\xE1.\\xDC\\x85\\xBBp\\x17\\xEE\\xC2]\\xB8\\vw\\xE1.\\xDC\\x85\\xBBp\\x17\\xEE\\xC2]\\xB8\\vw\\xE1.\\xDC\\x85\\xBBp\\x17\\xEE\\xC2]\\xB8\\vw\\xE1.\\xDC\\x85\\xBBp\\x17\\xEE\\xC2]\\xB8\\vw\\xE1.\\xDC\\x85\\xFB2\\bw\\xE1.\\xDC\\x85\\xBBp\\x17\\xEE\\xC2]\\xB8\\vw\\xE1.\\xDC\\x85\\xBBp\\x17\\xEE\\xC2]\\xB8\\vw\\xE1.\\xDC\\x85\\xBBp\\x17\\xEE\\xC2]\\xB8\\vw\\xE1.\\xDC\\x85\\xBBp\\x17\\xEE\\xC2]\\xB8\\vw\\xE1.\\xDC\\x85\\xBBp\\x17\\xEE\\xC2]\\xB8\\vw\\xE1.\\xDC\\x85\\xBBp\\x17\\xEE\\xCB \\xDC\\x85\\xBBp\\x17\\xEE\\xC2]\\xB8\\vw\\xE1.\\xDC\\x85\\xBBp\\x17\\xEE\\xC2]\\xB8\\vw\\xE1.\\xDC\\x85\\xBBp\\x17\\xEE\\xC2]\\xB8\\vw\\xE1.\\xDC\\x85\\xBBp\\x17\\xEE\\xC2]\\xB8\\vw\\xE1.\\xDC\\x85\\xBBp\\x17\\xEE\\xC2]\\xB8\\vw\\xE1.\\xDC\\x85\\xBBp\\x17\\xEE\\xC2]\\xB8/\\x83p\\xFFw\\x7F\\x01\\x92\\xC7\\xCAx\\x10\\xB1\\xA7\\xCE\\x00\\x00\\x00\\x00IEND\\xAEB`\\x82\""
      ]
     },
     "metadata": {},
     "output_type": "display_data"
    },
    {
     "data": {
      "text/plain": [
       "[[0.005532429582215259, 0.03902167432179493, 0], [0.0005514712310195514, 0.03904338750191727, 0], [0.0045239279240079575, 0.04117123668015732, 0], [0.003537517401613005, 0.04314201498073744, 0], [0.0037008133167575705, 0.06542979780116664, 0], [0.008502645964017133, 0.08186193562879074, 0], [0.0036346228249506196, 0.08661066266657169, 0], [0.000821070251442213, 0.09163536298921948, 0], [0.002643161803319719, 0.0968217509129411, 0], [0.006350132244016168, 0.11621726452093462, 0], [0.007522073917779746, 0.12596263276302255, 0], [0.0015223736862501535, 0.13939227683375732, 0], [0.005411829037988314, 0.1486671050705627, 0], [0.004207678553141051, 0.16431518098233922, 0], [0.006945223629160553, 0.1820562351532573, 0], [0.00819881557928886, 0.2005951065339373, 0], [0.009763284698784139, 0.2082678949672322, 0], [0.003173003282803023, 0.21298901714750695, 0], [0.004478394364167321, 0.26770058023799126, 0], [0.005126994965321361, 0.2906961263944877, 0], [0.0015791935644392885, 0.30368371336350375, 0], [0.00916479803776769, 0.32078598132733704, 0], [9.84276043196175e-05, 0.34983470052427024, 0], [0.005683232545624039, 0.35325791524971595, 0], [0.004731665513624872, 0.35841400854397165, 0], [0.0016467202226376253, 0.3701029066177739, 0], [0.0003171695661152574, 0.40933572551844133, 0], [0.008793844697561505, 0.41145464600314097, 0], [0.008354088405671943, 0.4150920919301241, 0], [0.003375057381752591, 0.4261328827037899, 0], [0.009559833963920565, 0.4316557393839262, 0], [0.005617787821678105, 0.4475245623939501, 0], [0.0034747830034016656, 0.4631298447180816, 0], [0.00665218697304057, 0.46874907861565385, 0], [0.009573817662510718, 0.47472951270047803, 0], [0.0002098502879594566, 0.4861519829079002, 0], [0.009022877829371438, 0.5008038001587206, 0], [0.008586255652731752, 0.508947990411778, 0], [0.002947695471598171, 0.5205552151297594, 0], [0.007404306580628809, 0.5556367353120495, 0], [0.002046363931570838, 0.5565561240197928, 0], [0.00618353809325631, 0.5607661844854623, 0], [0.004294441123065418, 0.5612508025666161, 0], [0.009593625428364328, 0.5639825168356871, 0], [0.00526273744598059, 0.5706067500762824, 0], [0.006623971262506618, 0.574728071964428, 0], [0.009809804418372103, 0.5862879400650418, 0], [0.007916197586249635, 0.5920943554855413, 0], [0.003789306821156112, 0.6001675039069094, 0], [0.005992569769275687, 0.6034479432612058, 0], [0.00836432588558822, 0.6057166662898833, 0], [0.007949577743714117, 0.6058633631391255, 0], [0.005658723685749343, 0.6156854711221836, 0], [0.00238641551841561, 0.6343805339476528, 0], [0.0016250326679584837, 0.6364382989333182, 0], [0.005526944746781829, 0.6399478776935456, 0], [0.008308959936461795, 0.6622299371084921, 0], [0.007653207042569206, 0.6637930366604711, 0], [0.008476073630290718, 0.6824396693160871, 0], [0.005084378702174758, 0.6876751237570212, 0], [0.009111714563898228, 0.6879132025806696, 0], [0.004352434329520486, 0.6943228135136965, 0], [0.00929458806255839, 0.6997849460123943, 0], [0.0036719256326387586, 0.705109574410685, 0], [0.004359102254271075, 0.7111623846997956, 0], [0.0007883798987521762, 0.7135325423483739, 0], [0.0031362642001690555, 0.7478052114165631, 0], [0.002210025201518804, 0.7482257774587323, 0], [0.006651987852310994, 0.7575836023430548, 0], [0.004231990644339085, 0.7708554377415208, 0], [0.007899862144823681, 0.7723007389725582, 0], [0.006475758640519624, 0.7758564742874097, 0], [0.0002060223966939545, 0.802078646014896, 0], [0.0017590965743768338, 0.80488733404618, 0], [0.007061156486720962, 0.8072100241763256, 0], [0.0007697330175175398, 0.8171877490358137, 0], [0.0031873025541319967, 0.8188839410291117, 0], [0.0009478696814626198, 0.8197150699396374, 0], [0.0008880787047350192, 0.8276838789089485, 0], [0.005540059272966398, 0.8386585771690129, 0], [0.007949029095279564, 0.8469270680475437, 0], [0.0068099156527086395, 0.8494747484819366, 0], [0.0005343961468518466, 0.856508406898356, 0], [0.008356371096186217, 0.8650014514988521, 0], [0.006241357509813538, 0.9035599705153844, 0], [0.003891709009515838, 0.9112935106889881, 0], [0.0043920984454926155, 0.9137240415502268, 0], [0.00011166633203757103, 0.922177630791519, 0], [0.003478532079511826, 0.95286375244952, 0], [0.0034945310924522164, 0.9537066922554858, 0], [0.004237613844129846, 0.9673211914742625, 0], [0.0049591015311764965, 0.9738253808218501, 0], [0.007688174347344823, 0.9814938875349141, 0], [0.005861206073108578, 0.9828824281915617, 0], [0.004215871971619747, 0.9832692562712168, 0], [0.008808492360578943, 0.9840592842628562, 0], [0.00384243692652102, 0.9858192448891887, 0], [0.004199071174897796, 0.9865311739349403, 0], [0.004212184543613841, 0.9918472294271822, 0], [0.0007000589417883108, 0.9939695295478883, 0]]"
      ]
     },
     "execution_count": 21,
     "metadata": {},
     "output_type": "execute_result"
    }
   ],
   "source": [
    "a=make_green(100)\n",
    "b=simplesort2(a)\n",
    "show_green(b)"
   ]
  },
  {
   "cell_type": "code",
   "execution_count": null,
   "metadata": {
    "collapsed": true
   },
   "outputs": [],
   "source": []
  }
 ],
 "metadata": {
  "kernelspec": {
   "display_name": "Ruby 2.1.9",
   "language": "ruby",
   "name": "ruby"
  },
  "language_info": {
   "file_extension": ".rb",
   "mimetype": "application/x-ruby",
   "name": "ruby",
   "version": "2.1.9"
  }
 },
 "nbformat": 4,
 "nbformat_minor": 0
}
