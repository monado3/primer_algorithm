{
 "cells": [
  {
   "cell_type": "code",
   "execution_count": null,
   "metadata": {
    "collapsed": true
   },
   "outputs": [],
   "source": [
    "include(Math) \n",
    " \n",
    "require \"zlib\" \n",
    "def show(image) \n",
    " def chunk(type, data) \n",
    "   [data.bytesize, type, data, Zlib.crc32(type + data)].pack(\"NA4A*N\") \n",
    " end \n",
    " def make_png(raw_data) \n",
    "   height = raw_data.size \n",
    "   width = raw_data[0].size \n",
    "   s = \"\\x89PNG\\r\\n\\x1a\\n\".force_encoding(\"ascii-8bit\") \n",
    "   s1 = chunk(\"IHDR\", [width, height, 8, 2, 0, 0, 0].pack(\"NNCCCCC\")) \n",
    "   s2 = chunk(\"IDAT\", Zlib::Deflate.deflate(raw_data.map {|line| \n",
    "                        ([0] + line.flatten).pack(\"C*\") }.join)) \n",
    "   s3 = chunk(\"IEND\", \"\") \n",
    "   s + s1 + s2 + s3 \n",
    " end \n",
    " def to_8bit(c) \n",
    "   if c.is_a?(Array) \n",
    "     if c[0].is_a?(Numeric) \n",
    "       c.map{|e| (e * 255).to_i } \n",
    "     else \n",
    "       raise \"show(): bad array element \" + c.to_s \n",
    "     end \n",
    "   else \n",
    "     [(c * 255).to_i] * 3 \n",
    "   end \n",
    " end \n",
    " if !image.is_a?(Array) || !image[0].is_a?(Array) \n",
    "   puts \"show(): not a 2d array\" ; false \n",
    " else \n",
    "   h = image.size \n",
    "   s = h < 10 ? 20 : h < 60 ? 10 : h < 400 ? 400 / h : 1 \n",
    "   data = image.flat_map{|r| [r.flat_map{|c| [to_8bit(c)] * s }] * s} \n",
    "   IRuby.display make_png(data), mime: \"image/png\" ; true \n",
    " end \n",
    "end \n",
    " \n",
    " \n",
    "def make2d(height,width) \n",
    "  Array.new(height){Array.new(width,0)} \n",
    "end   \n",
    " \n",
    "def sphere(s) \n",
    "  image = make2d(s,s) \n",
    "  for y in 0..(s-1) \n",
    "    for x in 0..(s-1) \n",
    "      image[y][x] = b(s,x,y) \n",
    "    end \n",
    "  end \n",
    "  image \n",
    "end \n",
    "   \n",
    "def b(s,x,y) \n",
    "  r = s/2 \n",
    "  d = distance(x,y,r,r) \n",
    "  if d<=r \n",
    "    b=(r-d)/r \n",
    "  else \n",
    "    b=1 \n",
    "  end \n",
    "end   \n",
    " \n",
    " \n",
    "def distance(x,y,r,s) \n",
    "  sqrt((x-r)*(x-r)+(y-r)*(y-r)) \n",
    "end   \n",
    " \n",
    " \n",
    " \n",
    "show(sphere(100))"
   ]
  },
  {
   "cell_type": "code",
   "execution_count": null,
   "metadata": {
    "collapsed": true
   },
   "outputs": [],
   "source": []
  },
  {
   "cell_type": "code",
   "execution_count": null,
   "metadata": {
    "collapsed": true
   },
   "outputs": [],
   "source": []
  },
  {
   "cell_type": "code",
   "execution_count": null,
   "metadata": {
    "collapsed": true
   },
   "outputs": [],
   "source": []
  },
  {
   "cell_type": "code",
   "execution_count": null,
   "metadata": {
    "collapsed": true
   },
   "outputs": [],
   "source": []
  },
  {
   "cell_type": "code",
   "execution_count": null,
   "metadata": {
    "collapsed": true
   },
   "outputs": [],
   "source": []
  },
  {
   "cell_type": "code",
   "execution_count": null,
   "metadata": {
    "collapsed": true
   },
   "outputs": [],
   "source": []
  },
  {
   "cell_type": "code",
   "execution_count": null,
   "metadata": {
    "collapsed": true
   },
   "outputs": [],
   "source": []
  },
  {
   "cell_type": "code",
   "execution_count": null,
   "metadata": {
    "collapsed": true
   },
   "outputs": [],
   "source": [
    "』"
   ]
  },
  {
   "cell_type": "code",
   "execution_count": null,
   "metadata": {
    "collapsed": true
   },
   "outputs": [],
   "source": []
  },
  {
   "cell_type": "code",
   "execution_count": null,
   "metadata": {
    "collapsed": true
   },
   "outputs": [],
   "source": []
  },
  {
   "cell_type": "code",
   "execution_count": null,
   "metadata": {
    "collapsed": true
   },
   "outputs": [],
   "source": []
  },
  {
   "cell_type": "code",
   "execution_count": null,
   "metadata": {
    "collapsed": true
   },
   "outputs": [],
   "source": []
  },
  {
   "cell_type": "code",
   "execution_count": null,
   "metadata": {
    "collapsed": true
   },
   "outputs": [],
   "source": []
  },
  {
   "cell_type": "code",
   "execution_count": null,
   "metadata": {
    "collapsed": true
   },
   "outputs": [],
   "source": []
  },
  {
   "cell_type": "code",
   "execution_count": null,
   "metadata": {
    "collapsed": true
   },
   "outputs": [],
   "source": []
  },
  {
   "cell_type": "code",
   "execution_count": null,
   "metadata": {
    "collapsed": true
   },
   "outputs": [],
   "source": [
    "』』"
   ]
  },
  {
   "cell_type": "code",
   "execution_count": null,
   "metadata": {
    "collapsed": true
   },
   "outputs": [],
   "source": []
  },
  {
   "cell_type": "code",
   "execution_count": null,
   "metadata": {
    "collapsed": true
   },
   "outputs": [],
   "source": []
  },
  {
   "cell_type": "code",
   "execution_count": null,
   "metadata": {
    "collapsed": true
   },
   "outputs": [],
   "source": []
  },
  {
   "cell_type": "code",
   "execution_count": null,
   "metadata": {
    "collapsed": true
   },
   "outputs": [],
   "source": []
  },
  {
   "cell_type": "code",
   "execution_count": null,
   "metadata": {
    "collapsed": true
   },
   "outputs": [],
   "source": []
  },
  {
   "cell_type": "code",
   "execution_count": null,
   "metadata": {
    "collapsed": true
   },
   "outputs": [],
   "source": []
  },
  {
   "cell_type": "code",
   "execution_count": null,
   "metadata": {
    "collapsed": true
   },
   "outputs": [],
   "source": []
  },
  {
   "cell_type": "code",
   "execution_count": null,
   "metadata": {
    "collapsed": true
   },
   "outputs": [],
   "source": []
  },
  {
   "cell_type": "code",
   "execution_count": null,
   "metadata": {
    "collapsed": true
   },
   "outputs": [],
   "source": []
  },
  {
   "cell_type": "code",
   "execution_count": null,
   "metadata": {
    "collapsed": true
   },
   "outputs": [],
   "source": []
  }
 ],
 "metadata": {
  "kernelspec": {
   "display_name": "Ruby 2.1.9",
   "language": "ruby",
   "name": "ruby"
  },
  "language_info": {
   "file_extension": ".rb",
   "mimetype": "application/x-ruby",
   "name": "ruby",
   "version": "2.1.9"
  }
 },
 "nbformat": 4,
 "nbformat_minor": 0
}
