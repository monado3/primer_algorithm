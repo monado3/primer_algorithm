{
 "cells": [
  {
   "cell_type": "code",
   "execution_count": null,
   "metadata": {
    "collapsed": false
   },
   "outputs": [],
   "source": [
    "def max(a,b)\n",
    "  if a>b then\n",
    "    a\n",
    "  else\n",
    "    b\n",
    "  end\n",
    "end\n",
    "\n",
    "def g()\n",
    "    -2\n",
    "end\n",
    "\n",
    "def align_sub(s,t,i,j)\n",
    "    if i==0||j==0\n",
    "      i*g()+j*g()\n",
    "    else\n",
    "      v0=align_sub(s,t,i,j-1)+g()\n",
    "      v1=align_sub(s,t,i-1,j-1)+q(s[i-1],t[j-1])\n",
    "      v2=align_sub(s,t,i-1,j)+g()\n",
    "      max(v0,max(v1,v2))\n",
    "    end\n",
    "end\n",
    "\n",
    "def q(x,y)\n",
    "    if x==y then\n",
    "      2\n",
    "    else\n",
    "      -1\n",
    "    end\n",
    "end\n",
    "\n",
    "def align_rec(s,t)\n",
    "      align_sub(s,t,s.length(),t.length())\n",
    "end"
   ]
  },
  {
   "cell_type": "code",
   "execution_count": null,
   "metadata": {
    "collapsed": false
   },
   "outputs": [],
   "source": [
    "def g()\n",
    "  -2\n",
    "end\n",
    "\n",
    "def make2d(height,width)\n",
    "  Array.new(height){Array.new(width,0)}\n",
    "end\n",
    "\n",
    "\n",
    "def max(a,b)\n",
    "  if a>b then\n",
    "    a\n",
    "  else\n",
    "    b\n",
    "  end\n",
    "end\n",
    "\n",
    "def align(s,t)\n",
    "  m=s.length()\n",
    "  n=t.length()\n",
    "  a=make2d(m+1,n+1)\n",
    "  for j in 1..n\n",
    "    a[0][j]=a[0][j-1]+g()\n",
    "  end\n",
    "  for i in 1..m\n",
    "    a[i][0]=a[i-1][0]+g()\n",
    "  end\n",
    "\n",
    "  for i in 1..m\n",
    "    for j in 1..n\n",
    "      if s[i-1]==t[j-1] then\n",
    "        b=a[i-1][j-1]+2\n",
    "      else\n",
    "        b=a[i-1][j-1]-1\n",
    "      end\n",
    "      a[i][j]=max(b,max(a[i-1][j]+g(),a[i][j-1]+g()))\n",
    "    end\n",
    "   end\n",
    "   a\n",
    "end\n",
    "\n",
    "def align_dp(s,t)\n",
    "    a=align(s,t)\n",
    "    a[s.length()][t.length()]\n",
    "end"
   ]
  },
  {
   "cell_type": "code",
   "execution_count": null,
   "metadata": {
    "collapsed": false
   },
   "outputs": [],
   "source": [
    "align(\"AAC\",\"ATAG\")"
   ]
  },
  {
   "cell_type": "code",
   "execution_count": null,
   "metadata": {
    "collapsed": false
   },
   "outputs": [],
   "source": [
    "def runalign_dp(s,t)\n",
    "  t=Time.now\n",
    "  align_dp(s,t)\n",
    "  Time.now-t\n",
    "end"
   ]
  },
  {
   "cell_type": "code",
   "execution_count": null,
   "metadata": {
    "collapsed": false
   },
   "outputs": [],
   "source": [
    "def runalign_rec(s,t)\n",
    "  t=Time.now\n",
    "  align_rec(s,t)\n",
    "  Time.now-t\n",
    "end"
   ]
  },
  {
   "cell_type": "code",
   "execution_count": null,
   "metadata": {
    "collapsed": false
   },
   "outputs": [],
   "source": [
    "runalign_rec(\"ACAGTTAGGC\",\"ACTGGTGTGC\")"
   ]
  },
  {
   "cell_type": "code",
   "execution_count": null,
   "metadata": {
    "collapsed": true
   },
   "outputs": [],
   "source": []
  }
 ],
 "metadata": {
  "kernelspec": {
   "display_name": "Ruby 2.1.9",
   "language": "ruby",
   "name": "ruby"
  },
  "language_info": {
   "file_extension": ".rb",
   "mimetype": "application/x-ruby",
   "name": "ruby",
   "version": "2.1.9"
  }
 },
 "nbformat": 4,
 "nbformat_minor": 0
}
