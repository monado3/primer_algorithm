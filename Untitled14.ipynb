{
 "cells": [
  {
   "cell_type": "code",
   "execution_count": 2,
   "metadata": {
    "collapsed": false
   },
   "outputs": [
    {
     "data": {
      "text/plain": [
       ":make2d"
      ]
     },
     "execution_count": 2,
     "metadata": {},
     "output_type": "execute_result"
    }
   ],
   "source": [
    "def make1d(n)\n",
    "  if n>1 then\n",
    "    make1d(n-1)+[0]\n",
    "  else\n",
    "    [0]\n",
    "  end\n",
    "end\n",
    "def make2d(h,w)\n",
    "  if h>1 then\n",
    "    make2d(h-1,w)+[make1d(w)]\n",
    "  else\n",
    "    [make1d(w)]\n",
    "  end\n",
    "end"
   ]
  },
  {
   "cell_type": "code",
   "execution_count": 3,
   "metadata": {
    "collapsed": false
   },
   "outputs": [
    {
     "data": {
      "text/plain": [
       "[[0, 0, 0, 0, 0, 0, 0, 0, 0, 0], [0, 0, 0, 0, 0, 0, 0, 0, 0, 0], [0, 0, 0, 0, 0, 0, 0, 0, 0, 0]]"
      ]
     },
     "execution_count": 3,
     "metadata": {},
     "output_type": "execute_result"
    }
   ],
   "source": [
    "make2d(3,10)"
   ]
  },
  {
   "cell_type": "code",
   "execution_count": 12,
   "metadata": {
    "collapsed": false
   },
   "outputs": [
    {
     "ename": "SyntaxError",
     "evalue": "(pry):159: syntax error, unexpected ')', expecting keyword_end\n(pry):176: syntax error, unexpected end-of-input, expecting keyword_end",
     "output_type": "error",
     "traceback": [
      "\u001b[31mSyntaxError\u001b[0m: (pry):159: syntax error, unexpected ')', expecting keyword_end\n(pry):176: syntax error, unexpected end-of-input, expecting keyword_end",
      "\u001b[37m/opt/local/lib/ruby2.1/gems/2.1.0/gems/pry-0.10.4/lib/pry/pry_instance.rb:355:in `eval'\u001b[0m",
      "\u001b[37m/opt/local/lib/ruby2.1/gems/2.1.0/gems/pry-0.10.4/lib/pry/pry_instance.rb:355:in `evaluate_ruby'\u001b[0m",
      "\u001b[37m/Library/Zool_nfs/opt/local/lib/ruby2.1/gems/2.1.0/gems/iruby-0.2.9/lib/iruby/backend.rb:72:in `eval'\u001b[0m",
      "\u001b[37m/Library/Zool_nfs/opt/local/lib/ruby2.1/gems/2.1.0/gems/iruby-0.2.9/lib/iruby/backend.rb:12:in `eval'\u001b[0m",
      "\u001b[37m/Library/Zool_nfs/opt/local/lib/ruby2.1/gems/2.1.0/gems/iruby-0.2.9/lib/iruby/kernel.rb:87:in `execute_request'\u001b[0m",
      "\u001b[37m/Library/Zool_nfs/opt/local/lib/ruby2.1/gems/2.1.0/gems/iruby-0.2.9/lib/iruby/kernel.rb:47:in `dispatch'\u001b[0m",
      "\u001b[37m/Library/Zool_nfs/opt/local/lib/ruby2.1/gems/2.1.0/gems/iruby-0.2.9/lib/iruby/kernel.rb:37:in `run'\u001b[0m",
      "\u001b[37m/Library/Zool_nfs/opt/local/lib/ruby2.1/gems/2.1.0/gems/iruby-0.2.9/lib/iruby/command.rb:70:in `run_kernel'\u001b[0m",
      "\u001b[37m/Library/Zool_nfs/opt/local/lib/ruby2.1/gems/2.1.0/gems/iruby-0.2.9/lib/iruby/command.rb:34:in `run'\u001b[0m",
      "\u001b[37m/opt/local/lib/ruby2.1/gems/2.1.0/gems/iruby-0.2.9/bin/iruby:5:in `<top (required)>'\u001b[0m",
      "\u001b[37m/opt/local/bin/iruby:23:in `load'\u001b[0m",
      "\u001b[37m/opt/local/bin/iruby:23:in `<main>'\u001b[0m"
     ]
    }
   ],
   "source": [
    "def mandelblot(s)\n",
    "  image=make2d(s,s)\n",
    "  for x in 0..(s-1)\n",
    "    for y in 0..(s-1)\n",
    "      image[y][x]=b((x-s)/50.0),((y-s)/2)/50.0)\n",
    "        end\n",
    "    end\n",
    "    image\n",
    "end\n",
    "def b(x,y)\n",
    "    n=0\n",
    "    r=0.0\n",
    "    i=0.0\n",
    "    while r**2+i**2<4 && n<=50 do\n",
    "      oldR=r\n",
    "      oldI=i\n",
    "      n=n+1\n",
    "      r=oldR**2-oldI**2+x\n",
    "      i=2*oldR*oldI+y\n",
    "    end\n",
    "    if n==51 then 0 else[0,(50-n)/3.0,0] end\n",
    "end"
   ]
  },
  {
   "cell_type": "code",
   "execution_count": 8,
   "metadata": {
    "collapsed": false
   },
   "outputs": [
    {
     "data": {
      "text/plain": [
       ":show"
      ]
     },
     "execution_count": 8,
     "metadata": {},
     "output_type": "execute_result"
    }
   ],
   "source": [
    "require \"zlib\"\n",
    "def show(image)\n",
    " def chunk(type, data)\n",
    "   [data.bytesize, type, data, Zlib.crc32(type + data)].pack(\"NA4A*N\")\n",
    " end\n",
    " def make_png(raw_data)\n",
    "   height = raw_data.size\n",
    "   width = raw_data[0].size\n",
    "   s = \"\\x89PNG\\r\\n\\x1a\\n\".force_encoding(\"ascii-8bit\")\n",
    "   s1 = chunk(\"IHDR\", [width, height, 8, 2, 0, 0, 0].pack(\"NNCCCCC\"))\n",
    "   s2 = chunk(\"IDAT\", Zlib::Deflate.deflate(raw_data.map {|line|\n",
    "                        ([0] + line.flatten).pack(\"C*\") }.join))\n",
    "   s3 = chunk(\"IEND\", \"\")\n",
    "   s + s1 + s2 + s3\n",
    " end\n",
    " def to_8bit(c)\n",
    "   if c.is_a?(Array)\n",
    "     if c[0].is_a?(Numeric)\n",
    "       c.map{|e| (e * 255).to_i }\n",
    "     else\n",
    "       raise \"show(): bad array element \" + c.to_s\n",
    "     end\n",
    "   else\n",
    "     [(c * 255).to_i] * 3\n",
    "   end\n",
    " end\n",
    " if !image.is_a?(Array) || !image[0].is_a?(Array)\n",
    "   puts \"show(): not a 2d array\" ; false\n",
    " else\n",
    "   h = image.size\n",
    "   s = h < 10 ? 20 : h < 60 ? 10 : h < 400 ? 400 / h : 1\n",
    "   data = image.flat_map{|r| [r.flat_map{|c| [to_8bit(c)] * s }] * s}\n",
    "   IRuby.display make_png(data), mime: \"image/png\" ; true\n",
    " end\n",
    "end"
   ]
  },
  {
   "cell_type": "code",
   "execution_count": 13,
   "metadata": {
    "collapsed": false
   },
   "outputs": [
    {
     "data": {
      "image/png": "[encoded data removed]",
      "text/plain": [
       "\"\\x89PNG\\r\\n\\x1A\\n\\x00\\x00\\x00\\rIHDR\\x00\\x00\\x01\\x90\\x00\\x00\\x01\\x90\\b\\x02\\x00\\x00\\x00\\x0F\\xDD\\xA1\\x9B\\x00\\x00\\a\\x85IDATx\\x9C\\xED\\xDA1r\\b\\x00\\x14E\\xD1l\\x8E0\\xC3\\nc\\xC4\\x12I\\xA4\\xA1Q\\xFA\\xB7P{\\xC5\\xF9s\\x9A\\xB7\\x81[\\xFD\\x87\\x87w\\x0F\\x7F=\\x1D\\xF7\\xBE\\x1F\\xEF\\x00\\xFE\\x93\\f\\xC1\\x02\\x96e\\b\\x16\\xB0,C\\xB0\\x80e\\x197X\\x8F\\x87`\\x01\\v2\\x04\\vX\\x96!X\\xC0\\xB2\\f\\xC1\\x02\\x96e\\b\\x16\\xB0,C\\xB0\\x80e\\x19\\x82\\x05,\\xCB\\x10,`Y\\x86`\\x01\\xCB2\\x04\\vX\\x96!X\\xC0\\xB2\\f\\xC1\\x02\\x96e\\b\\x16\\xB0,C\\xB0\\x80e\\x19\\x82\\x05,\\xCB\\x10,`Y\\xC6\\r\\xD6\\xCB!X\\xC0\\x82\\f\\xC1\\x02\\x96e\\b\\x16\\xB0,C\\xB0\\x80e\\x19\\x82\\x05,\\xCB\\x10,`Y\\x86`\\x01\\xCB2\\x04\\vX\\x96q\\x83\\xF5\\xF5\\x10,`A\\x86`\\x01\\xCB2\\x04\\vX\\x96!X\\xC0\\xB2\\x8C\\e\\xACO\\x87`\\x01\\v2\\x04\\vX\\x96!X\\xC0\\xB2\\f\\xC1\\x02\\x96e\\xDC`}>\\x04\\vX\\x90!X\\xC0\\xB2\\f\\xC1\\x02\\x96e\\b\\x16\\xB0,\\xE3\\x06\\xEB\\xDB!X\\xC0\\x82\\f\\xC1\\x02\\x96e\\b\\x16\\xB0,C\\xB0\\x80e\\x197X?\\x0F\\xC1\\x02\\x16d\\b\\x16\\xB0,C\\xB0\\x80e\\x19\\x82\\x05,\\xCB\\xB8\\xC1\\xFAu\\b\\x16\\xB0 C\\xB0\\x80e\\x19\\x82\\x05,\\xCB\\x10,`Y\\xC6\\xFB\\xC3\\xE3(\\xB0&C\\xB0\\x80e\\x19\\x82\\x05,\\xCB\\x10,`Y\\xC6\\r\\xD6\\xF3!X\\xC0\\x82\\f\\xC1\\x02\\x96e\\b\\x16\\xB0,C\\xB0\\x80e\\x197X\\x1F\\x0F\\xC1\\x02\\x16d\\b\\x16\\xB0,C\\xB0\\x80e\\x19\\x82\\x05,\\xCB\\x10,`Y\\x86`\\x01\\xCB2\\x04\\vX\\x96!X\\xC0\\xB2\\x8C\\e\\xAC\\xB7C\\xB0\\x80\\x05\\x19\\x82\\x05,\\xCB\\x10,`Y\\x86`\\x01\\xCB2n\\xB0\\xEE\\t\\x16\\xB0 C\\xB0\\x80e\\x19\\x82\\x05,\\xCB\\x10,`Y\\x86`\\x01\\xCB2\\x04\\vX\\x96!X\\xC0\\xB2\\f\\xC1\\x02\\x96e\\b\\x16\\xB0,C\\xB0\\x80e\\x19\\x82\\x05,\\xCB\\x10,`Y\\xC6\\x8FC\\xB0\\x805\\x19\\x82\\x05,\\xCB\\x10,`Y\\x86`\\x01\\xCB2\\x04\\vX\\x96!X\\xC0\\xB2\\f\\xC1\\x02\\x96e\\b\\x16\\xB0,C\\xB0\\x80e\\x19\\x82\\x05,\\xCB\\x10,`Y\\x86`\\x01\\xCB2\\x04\\vX\\x96!X\\xC0\\xB2\\f\\xC1\\x02\\x96e\\b\\x16\\xB0,C\\xB0\\x80e\\x19\\x82\\x05,\\xCB\\x10,`Y\\x86`\\x01\\xCB2\\x04\\vX\\x96!X\\xC0\\xB2\\f\\xC1\\x02\\x96e\\b\\x16\\xB0,C\\xB0\\x80e\\x19\\x82\\x05,\\xCB\\x10,`Y\\x86`\\x01\\xCB2\\x04\\vX\\x96!X\\xC0\\xB2\\f\\xC1\\x02\\x96e\\b\\x16\\xB0,\\xE3\\xCB!X\\xC0\\x9A\\f\\xC1\\x02\\x96e\\b\\x16\\xB0,C\\xB0\\x80e\\x19\\x8F\\x87`\\x01k2\\x04\\vX\\x96!X\\xC0\\xB2\\f\\xC1\\x02\\x96e\\xBC\\x1C\\x82\\x05\\xAC\\xC9\\x10,`Y\\x86`\\x01\\xCB2\\x04\\vX\\x96\\xF1\\xE1\\x10,`M\\x86`\\x01\\xCB2\\x04\\vX\\x96!X\\xC0\\xB2\\x8C\\xD7C\\xB0\\x805\\x19\\x82\\x05,\\xCB\\x10,`Y\\x86`\\x01\\xCB2\\x9E\\x0F\\xC1\\x02\\xD6d\\b\\x16\\xB0,C\\xB0\\x80e\\x19\\x82\\x05,\\xCB\\xF8}\\b\\x16\\xB0&C\\xB0\\x80e\\x19\\x82\\x05,\\xCB\\x10,`Y\\xC7?N\\xB0\\x80\\x05\\x1D\\x82\\x05\\f\\xEB\\x10,`X\\x87`\\x01\\xC3:\\x04\\v\\x18\\xD6!X\\xC0\\xB0\\x0E\\xC1\\x02\\x86u\\b\\x160\\xACC\\xB0\\x80a\\x1D\\x82\\x05\\f\\xEB\\x10,`X\\x87`\\x01\\xC3:\\x04\\v\\x18\\xD6!X\\xC0\\xB0\\x0E\\xC1\\x02\\x86u\\b\\x160\\xACC\\xB0\\x80a\\x1D\\x82\\x05\\f\\xEB\\x10,`X\\x87`\\x01\\xC3:\\x04\\v\\x18\\xD6!X\\xC0\\xB0\\x0E\\xC1\\x02\\x86u\\b\\x160\\xACC\\xB0\\x80a\\x1D\\x82\\x05\\f\\xEB\\x10,`X\\x87`\\x01\\xC3:\\x04\\v\\x18\\xD6!X\\xC0\\xB0\\x0E\\xC1\\x02\\x86u\\b\\x160\\xACC\\xB0\\x80a\\x1D\\x82\\x05\\f\\xEB\\x10,`X\\x87`\\x01\\xC3:\\x04\\v\\x18\\xD6!X\\xC0\\xB0\\x0E\\xC1\\x02\\x86u\\b\\x160\\xACC\\xB0\\x80a\\x1D\\x82\\x05\\f\\xEB\\x10,`X\\x87`\\x01\\xC3:\\x04\\v\\x18\\xD6!X\\xC0\\xB0\\x0E\\xC1\\x02\\x86u\\b\\x160\\xACC\\xB0\\x80a\\x1D\\x82\\x05\\f\\xEB\\x10,`X\\x87`\\x01\\xC3:\\x04\\v\\x18\\xD6!X\\xC0\\xB0\\x0E\\xC1\\x02\\x86u\\b\\x160\\xACC\\xB0\\x80a\\x1D\\x82\\x05\\f\\xEB\\x10,`X\\x87`\\x01\\xC3:\\x04\\v\\x18\\xD6!X\\xC0\\xB0\\x0E\\xC1\\x02\\x86u\\b\\x160\\xACC\\xB0\\x80a\\x1D\\x82\\x05\\f\\xEB\\x10,`X\\x87`\\x01\\xC3:\\x04\\v\\x18\\xD6!X\\xC0\\xB0\\x0E\\xC1\\x02\\x86u\\b\\x160\\xACC\\xB0\\x80a\\x1D\\x82\\x05\\f\\xEB\\x10,`X\\x87`\\x01\\xC3:\\x04\\v\\x18\\xD6!X\\xC0\\xB0\\x0E\\xC1\\x02\\x86u\\b\\x160\\xACC\\xB0\\x80a\\x1D\\x82\\x05\\f\\xEB\\x10,`X\\x87`\\x01\\xC3:\\x04\\v\\x18\\xD6!X\\xC0\\xB0\\x0E\\xC1\\x02\\x86u\\b\\x160\\xACC\\xB0\\x80a\\x1D\\x82\\x05\\f\\xEB\\x10,`X\\x87`\\x01\\xC3:\\x04\\v\\x18\\xD6!X\\xC0\\xB0\\x0E\\xC1\\x02\\x86u\\b\\x160\\xACC\\xB0\\x80a\\x1D\\x82\\x05\\f\\xEB\\x10,`X\\x87`\\x01\\xC3:\\x04\\v\\x18\\xD6!X\\xC0\\xB0\\x0E\\xC1\\x02\\x86u\\b\\x160\\xACC\\xB0\\x80a\\x1D\\x82\\x05\\f\\xEB\\x10,`X\\x87`\\x01\\xC3:\\x04\\v\\x18\\xD6!X\\xC0\\xB0\\x0E\\xC1\\x02\\x86u\\b\\x160\\xACC\\xB0\\x80a\\x1D\\x82\\x05\\f\\xEB\\x10,`X\\x87`\\x01\\xC32~\\x1F\\x82\\x05\\xAC\\xC9\\x10,`Y\\x86`\\x01\\xCB2\\x04\\vX\\x96\\xF1|\\b\\x16\\xB0&C\\xB0\\x80e\\x19\\x82\\x05,\\xCB\\x10,`Y\\xC6\\xEB!X\\xC0\\x9A\\f\\xC1\\x02\\x96e\\b\\x16\\xB0,C\\xB0\\x80e\\x19\\x1F\\x0E\\xC1\\x02\\xD6d\\b\\x16\\xB0,C\\xB0\\x80e\\x19\\x82\\x05,\\xCBx9\\x04\\vX\\x93!X\\xC0\\xB2\\f\\xC1\\x02\\x96e\\b\\x16\\xB0,\\xE3\\xF1\\x10,`M\\x86`\\x01\\xCB2\\x04\\vX\\x96!X\\xC0\\xB2\\x8C/\\x87`\\x01k2\\x04\\vX\\x96!X\\xC0\\xB2\\f\\xC1\\x02\\x96e\\xFC8\\x04\\vX\\x93!X\\xC0\\xB2\\f\\xC1\\x02\\x96e\\b\\x16\\xB0,C\\xB0\\x80e\\x19\\x82\\x05,\\xCB\\x10,`Y\\x86`\\x01\\xCB2\\x04\\vX\\x96!X\\xC0\\xB2\\f\\xC1\\x02\\x96e\\b\\x16\\xB0,C\\xB0\\x80e\\x19\\x82\\x05,\\xCB\\x10,`Y\\x86`\\x01\\xCB2\\x04\\vX\\x96!X\\xC0\\xB2\\f\\xC1\\x02\\x96e\\b\\x16\\xB0,C\\xB0\\x80e\\x19\\x82\\x05,\\xCB\\x10,`Y\\x86`\\x01\\xCB2\\x04\\vX\\x96!X\\xC0\\xB2\\f\\xC1\\x02\\x96e\\b\\x16\\xB0,C\\xB0\\x80e\\x19\\x82\\x05,\\xCB\\x10,`Y\\x86`\\x01\\xCB2\\xDE\\x1F\\x82\\x05\\xAC\\xC9\\x10,`Y\\x86`\\x01\\xCB2\\x04\\vX\\x96!X\\xC0\\xB2\\f\\xC1\\x02\\x96e\\b\\x16\\xB0,C\\xB0\\x80e\\x19\\x82\\x05,\\xCB\\x10,`Y\\x86`\\x01\\xCB2\\x04\\vX\\x96q\\x83\\xF5v\\b\\x16\\xB0 C\\xB0\\x80e\\x19\\x82\\x05,\\xCB\\x10,`Y\\xC6\\r\\xD6\\xC7C\\xB0\\x80\\x05\\x19\\x82\\x05,\\xCB\\x10,`Y\\x86`\\x01\\xCB2\\x04\\vX\\x96!X\\xC0\\xB2\\f\\xC1\\x02\\x96e\\b\\x16\\xB0,\\xE3\\x06\\xEB\\xF9\\x10,`A\\x86`\\x01\\xCB2\\x04\\vX\\x96!X\\xC0\\xB2\\x8C\\e\\xACo\\x87`\\x01\\v2\\x04\\vX\\x96!X\\xC0\\xB2\\f\\xC1\\x02\\x96e<\\x1D\\xBF\\x0E\\xC1\\x02\\x16d\\b\\x16\\xB0,C\\xB0\\x80e\\x19\\x82\\x05,\\xCB\\xB8\\xC1\\xFAy\\b\\x16\\xB0 C\\xB0\\x80e\\x19\\x82\\x05,\\xCB\\x10,`Y\\xC6\\r\\x96\\xC7Q`M\\x86`\\x01\\xCB2\\x04\\vX\\x96!X\\xC0\\xB2\\x8C\\e\\xAC\\xCF\\x87`\\x01\\v2\\x04\\vX\\x96!X\\xC0\\xB2\\f\\xC1\\x02\\x96e\\xDC`}:\\x04\\vX\\x90!X\\xC0\\xB2\\f\\xC1\\x02\\x96e\\b\\x16\\xB0,\\xE3\\x06\\xEB\\xEB!X\\xC0\\x82\\f\\xC1\\x02\\x96e\\b\\x16\\xB0,C\\xB0\\x80e\\x197X/\\x87`\\x01\\v2\\x04\\vX\\x96!X\\xC0\\xB2\\f\\xC1\\x02\\x96e\\b\\x16\\xB0,C\\xB0\\x80e\\x19\\x82\\x05,\\xCB\\x10,`Y\\xC6\\r\\xD6\\xE3!X\\xC0\\x82\\f\\xC1\\x02\\x96e\\b\\x16\\xB0,C\\xB0\\x80e\\x19\\x82\\x05,\\xCB\\x10,`Y\\x86`\\x01\\xCB2\\x04\\vX\\x96!X\\xC0\\xB2\\f\\xC1\\x02\\x96e\\b\\x16\\xB0,C\\xB0\\x80e\\x19\\x82\\x05,\\xCB\\x10,`Y\\x86`\\x01\\xCB2\\x04\\v\\x18\\xF6\\a^*=4\\x06\\x8Fv\\\\\\x00\\x00\\x00\\x00IEND\\xAEB`\\x82\""
      ]
     },
     "metadata": {},
     "output_type": "display_data"
    },
    {
     "data": {
      "text/plain": [
       "true"
      ]
     },
     "execution_count": 13,
     "metadata": {},
     "output_type": "execute_result"
    }
   ],
   "source": [
    "show mandelblot(100)"
   ]
  },
  {
   "cell_type": "code",
   "execution_count": null,
   "metadata": {
    "collapsed": true
   },
   "outputs": [],
   "source": []
  }
 ],
 "metadata": {
  "kernelspec": {
   "display_name": "Ruby 2.1.9",
   "language": "ruby",
   "name": "ruby"
  },
  "language_info": {
   "file_extension": ".rb",
   "mimetype": "application/x-ruby",
   "name": "ruby",
   "version": "2.1.9"
  }
 },
 "nbformat": 4,
 "nbformat_minor": 0
}
