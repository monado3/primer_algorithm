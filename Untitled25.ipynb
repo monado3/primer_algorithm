{
 "cells": [
  {
   "cell_type": "code",
   "execution_count": null,
   "metadata": {
    "collapsed": false
   },
   "outputs": [],
   "source": []
  },
  {
   "cell_type": "code",
   "execution_count": 13,
   "metadata": {
    "collapsed": false
   },
   "outputs": [
    {
     "data": {
      "text/plain": [
       ":swap"
      ]
     },
     "execution_count": 13,
     "metadata": {},
     "output_type": "execute_result"
    }
   ],
   "source": [
    "def gjp(a) \n",
    "  row=a.length() \n",
    "  col=a[0].length() \n",
    "  for k in 0..(col-2) \n",
    "    max=maxrow(a,k) \n",
    "    swap(a,k,max) \n",
    "    akk=a[k][k] \n",
    "    for i in 0..(row-1) \n",
    "      if i!=k \n",
    "        aik=a[i][k] \n",
    "        for j in k..(col-1) \n",
    "        a[i][j]=a[i][j]-aik*a[k][j]\n",
    "        end \n",
    "      end \n",
    "    end \n",
    "  end \n",
    "a\n",
    "end\n",
    "\n",
    "def maxrow(a,k) \n",
    "  m=k\n",
    "  for i in (k-1)..(a.length()-1)\n",
    "    if abs(a[i][k])>abs(a[m][k])\n",
    "      m=i\n",
    "    end\n",
    "  end\n",
    "  m\n",
    "end\n",
    "\n",
    "def abs(x)\n",
    "  if x<0 then -x\n",
    "  else x\n",
    "  end\n",
    "end\n",
    "\n",
    "def swap(a,k,max)\n",
    "    m=a[max]\n",
    "    a[max]=a[k]\n",
    "    a[k]=m\n",
    "end\n"
   ]
  },
  {
   "cell_type": "code",
   "execution_count": 14,
   "metadata": {
    "collapsed": false
   },
   "outputs": [
    {
     "data": {
      "text/plain": [
       "[[-85, 308, 420773835, 98904968], [6794, -153, -209083405, -49146087], [86, -8008, 104282, 24512]]"
      ]
     },
     "execution_count": 14,
     "metadata": {},
     "output_type": "execute_result"
    }
   ],
   "source": [
    "a=[[1,-50,-3,-90],[-85,2,-25,-6],[79,5,30,-1]]\n",
    "gjp(a)"
   ]
  },
  {
   "cell_type": "code",
   "execution_count": 15,
   "metadata": {
    "collapsed": false
   },
   "outputs": [
    {
     "data": {
      "text/plain": [
       ":gj"
      ]
     },
     "execution_count": 15,
     "metadata": {},
     "output_type": "execute_result"
    }
   ],
   "source": [
    "def gj(a)\n",
    "  row=a.length()\n",
    "  col=a[0].length()\n",
    "  for k in 0..(col-2)\n",
    "    akk=a[k][k]\n",
    "    for i in 0..(col-1)\n",
    "      a[k][i]=a[k][i]*1.0/akk\n",
    "    end\n",
    "    for i in 0..(row-1)\n",
    "      if i!=k\n",
    "        aik=a[i][k]\n",
    "        for j in k..(col-1)\n",
    "          a[i][j]=a[i][j]-aik*a[k][j]\n",
    "        end\n",
    "      end\n",
    "    end\n",
    "  end\n",
    "  a\n",
    "end"
   ]
  },
  {
   "cell_type": "code",
   "execution_count": 16,
   "metadata": {
    "collapsed": false
   },
   "outputs": [
    {
     "data": {
      "text/plain": [
       "[[1.0, 0.0, 0.0, -7.524739402242631e-06], [0.0, 1.0, 0.0, -1.907465048134327e-07], [0.0, 0.0, 1.0, 0.23505493871647024]]"
      ]
     },
     "execution_count": 16,
     "metadata": {},
     "output_type": "execute_result"
    }
   ],
   "source": [
    "gj(a)"
   ]
  },
  {
   "cell_type": "code",
   "execution_count": null,
   "metadata": {
    "collapsed": true
   },
   "outputs": [],
   "source": []
  }
 ],
 "metadata": {
  "kernelspec": {
   "display_name": "Ruby 2.1.9",
   "language": "ruby",
   "name": "ruby"
  },
  "language_info": {
   "file_extension": ".rb",
   "mimetype": "application/x-ruby",
   "name": "ruby",
   "version": "2.1.9"
  }
 },
 "nbformat": 4,
 "nbformat_minor": 0
}
