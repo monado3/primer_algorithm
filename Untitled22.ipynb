{
 "cells": [
  {
   "cell_type": "code",
   "execution_count": 2,
   "metadata": {
    "collapsed": false
   },
   "outputs": [
    {
     "data": {
      "text/plain": [
       ":show"
      ]
     },
     "execution_count": 2,
     "metadata": {},
     "output_type": "execute_result"
    }
   ],
   "source": [
    "require \"zlib\"\n",
    "def show(image)\n",
    " def chunk(type, data)\n",
    "   [data.bytesize, type, data, Zlib.crc32(type + data)].pack(\"NA4A*N\")\n",
    " end\n",
    " def make_png(raw_data)\n",
    "   height = raw_data.size\n",
    "   width = raw_data[0].size\n",
    "   s = \"\\x89PNG\\r\\n\\x1a\\n\".force_encoding(\"ascii-8bit\")\n",
    "   s1 = chunk(\"IHDR\", [width, height, 8, 2, 0, 0, 0].pack(\"NNCCCCC\"))\n",
    "   s2 = chunk(\"IDAT\", Zlib::Deflate.deflate(raw_data.map {|line|\n",
    "                        ([0] + line.flatten).pack(\"C*\") }.join))\n",
    "   s3 = chunk(\"IEND\", \"\")\n",
    "   s + s1 + s2 + s3\n",
    " end\n",
    " def to_8bit(c)\n",
    "   if c.is_a?(Array)\n",
    "     if c[0].is_a?(Numeric)\n",
    "       c.map{|e| (e * 255).to_i }\n",
    "     else\n",
    "       raise \"show(): bad array element \" + c.to_s\n",
    "     end\n",
    "   else\n",
    "     [(c * 255).to_i] * 3\n",
    "   end\n",
    " end\n",
    " if !image.is_a?(Array) || !image[0].is_a?(Array)\n",
    "   puts \"show(): not a 2d array\" ; false\n",
    " else\n",
    "   h = image.size\n",
    "   s = h < 10 ? 20 : h < 60 ? 10 : h < 400 ? 400 / h : 1\n",
    "   data = image.flat_map{|r| [r.flat_map{|c| [to_8bit(c)] * s }] * s}\n",
    "   IRuby.display make_png(data), mime: \"image/png\" ; true\n",
    " end\n",
    "end"
   ]
  },
  {
   "cell_type": "code",
   "execution_count": 7,
   "metadata": {
    "collapsed": false
   },
   "outputs": [
    {
     "ename": "SyntaxError",
     "evalue": "(pry):194: syntax error, unexpected '}', expecting ']'\n(pry):215: syntax error, unexpected end-of-input, expecting '}'",
     "output_type": "error",
     "traceback": [
      "\u001b[31mSyntaxError\u001b[0m: (pry):194: syntax error, unexpected '}', expecting ']'\n(pry):215: syntax error, unexpected end-of-input, expecting '}'",
      "\u001b[37m/opt/local/lib/ruby2.1/gems/2.1.0/gems/pry-0.10.4/lib/pry/pry_instance.rb:355:in `eval'\u001b[0m",
      "\u001b[37m/opt/local/lib/ruby2.1/gems/2.1.0/gems/pry-0.10.4/lib/pry/pry_instance.rb:355:in `evaluate_ruby'\u001b[0m",
      "\u001b[37m/Library/Zool_nfs/opt/local/lib/ruby2.1/gems/2.1.0/gems/iruby-0.2.9/lib/iruby/backend.rb:72:in `eval'\u001b[0m",
      "\u001b[37m/Library/Zool_nfs/opt/local/lib/ruby2.1/gems/2.1.0/gems/iruby-0.2.9/lib/iruby/backend.rb:12:in `eval'\u001b[0m",
      "\u001b[37m/Library/Zool_nfs/opt/local/lib/ruby2.1/gems/2.1.0/gems/iruby-0.2.9/lib/iruby/kernel.rb:87:in `execute_request'\u001b[0m",
      "\u001b[37m/Library/Zool_nfs/opt/local/lib/ruby2.1/gems/2.1.0/gems/iruby-0.2.9/lib/iruby/kernel.rb:47:in `dispatch'\u001b[0m",
      "\u001b[37m/Library/Zool_nfs/opt/local/lib/ruby2.1/gems/2.1.0/gems/iruby-0.2.9/lib/iruby/kernel.rb:37:in `run'\u001b[0m",
      "\u001b[37m/Library/Zool_nfs/opt/local/lib/ruby2.1/gems/2.1.0/gems/iruby-0.2.9/lib/iruby/command.rb:70:in `run_kernel'\u001b[0m",
      "\u001b[37m/Library/Zool_nfs/opt/local/lib/ruby2.1/gems/2.1.0/gems/iruby-0.2.9/lib/iruby/command.rb:34:in `run'\u001b[0m",
      "\u001b[37m/opt/local/lib/ruby2.1/gems/2.1.0/gems/iruby-0.2.9/bin/iruby:5:in `<top (required)>'\u001b[0m",
      "\u001b[37m/opt/local/bin/iruby:23:in `load'\u001b[0m",
      "\u001b[37m/opt/local/bin/iruby:23:in `<main>'\u001b[0m"
     ]
    }
   ],
   "source": [
    "def make_green(n) \n",
    "  Array.new(n){[rand(0)/100,rand(0),[0]}\n",
    "end \n",
    "\n",
    "def min_index(a,i)\n",
    "  k=i\n",
    "  for j in (i+1)..(a.length()-1)\n",
    "    if a[j][2]<a[k][2]\n",
    "      k=j \n",
    "    end\n",
    "  end\n",
    "  k\n",
    "end\n",
    "  \n",
    "def simplesort2(a) \n",
    "  for i in 0.. (a.length()-1) \n",
    "    k=min_index(a,i)\n",
    "    v=a[i]\n",
    "    a[i] = a[k] \n",
    "    a[k] = v\n",
    "  end\n",
    "  a\n",
    "end"
   ]
  },
  {
   "cell_type": "code",
   "execution_count": null,
   "metadata": {
    "collapsed": true
   },
   "outputs": [],
   "source": []
  },
  {
   "cell_type": "code",
   "execution_count": null,
   "metadata": {
    "collapsed": true
   },
   "outputs": [],
   "source": []
  }
 ],
 "metadata": {
  "kernelspec": {
   "display_name": "Ruby 2.1.9",
   "language": "ruby",
   "name": "ruby"
  },
  "language_info": {
   "file_extension": ".rb",
   "mimetype": "application/x-ruby",
   "name": "ruby",
   "version": "2.1.9"
  }
 },
 "nbformat": 4,
 "nbformat_minor": 0
}
