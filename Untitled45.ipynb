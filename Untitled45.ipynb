{
 "cells": [
  {
   "cell_type": "code",
   "execution_count": 10,
   "metadata": {
    "collapsed": false
   },
   "outputs": [
    {
     "data": {
      "text/plain": [
       ":gaindp"
      ]
     },
     "execution_count": 10,
     "metadata": {},
     "output_type": "execute_result"
    }
   ],
   "source": [
    "def make2d(height,width,value)\n",
    "  Array.new(height){Array.new(width,value)}\n",
    "end\n",
    "\n",
    "def max(x,y)\n",
    "  if x<y\n",
    "    y\n",
    "  else\n",
    "    x\n",
    "  end\n",
    "end\n",
    "\n",
    "def gaindp(s)\n",
    "  m=s.length()\n",
    "  n=s[0].length()\n",
    "  a=make2d(m,n,-100)\n",
    "  a[0][0]=s[0][0]\n",
    "  for j in 1..(n-1)\n",
    "    a[0][j]=a[0][j-1]+s[0][j]\n",
    "  end\n",
    "  for i in 1..(m-1)\n",
    "    a[i][0]=a[0][i-1]+s[i][0]\n",
    "  end\n",
    "  for i in 1..(m-1)\n",
    "    for j in 1..(n-1)\n",
    "      a[i][j]=max(a[i-1][j],a[i][j-1])+s[i][j]\n",
    "    end\n",
    "  end\n",
    "  a[m-1][n-1]\n",
    "end"
   ]
  },
  {
   "cell_type": "code",
   "execution_count": 13,
   "metadata": {
    "collapsed": false
   },
   "outputs": [
    {
     "data": {
      "text/plain": [
       "26"
      ]
     },
     "execution_count": 13,
     "metadata": {},
     "output_type": "execute_result"
    }
   ],
   "source": [
    "gaindp([[2,6,5,-2],[3,-1,4,-3],[-3,12,-1,8]])"
   ]
  },
  {
   "cell_type": "code",
   "execution_count": 12,
   "metadata": {
    "collapsed": false
   },
   "outputs": [
    {
     "data": {
      "text/plain": [
       "26"
      ]
     },
     "execution_count": 12,
     "metadata": {},
     "output_type": "execute_result"
    }
   ],
   "source": [
    "gaindp(b)"
   ]
  },
  {
   "cell_type": "code",
   "execution_count": null,
   "metadata": {
    "collapsed": true
   },
   "outputs": [],
   "source": []
  }
 ],
 "metadata": {
  "kernelspec": {
   "display_name": "Ruby 2.1.9",
   "language": "ruby",
   "name": "ruby"
  },
  "language_info": {
   "file_extension": ".rb",
   "mimetype": "application/x-ruby",
   "name": "ruby",
   "version": "2.1.9"
  }
 },
 "nbformat": 4,
 "nbformat_minor": 0
}
