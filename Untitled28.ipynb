{
 "cells": [
  {
   "cell_type": "code",
   "execution_count": 1,
   "metadata": {
    "collapsed": false
   },
   "outputs": [
    {
     "data": {
      "text/plain": [
       "[[1.0, 0.0, 0.0, 1.0000000000000002], [-0.0, 1.0, 0.0, 2.0], [0.0, 0.0, 1.0, -3.0]]"
      ]
     },
     "execution_count": 1,
     "metadata": {},
     "output_type": "execute_result"
    }
   ],
   "source": [
    "def gjp(a)\n",
    "  row=a.length()\n",
    "  col=a[0].length()\n",
    "  for k in 0..(col-2)\n",
    "    max=maxrow(a,k)\n",
    "    swap(a,k,max)\n",
    "    akk=a[k][k]\n",
    "    for i in 0..(col-1)\n",
    "      a[k][i]=a[k][i]*1.0/akk\n",
    "    end\n",
    "    for i in 0..(row-1)\n",
    "      if i!=k\n",
    "        aik=a[i][k]\n",
    "        for j in k..(col-1)\n",
    "          a[i][j]=a[i][j]-aik*a[k][j]\n",
    "        end\n",
    "      end\n",
    "    end\n",
    "  end\n",
    "  a\n",
    "end\n",
    "\n",
    "def maxrow(a,k)\n",
    "  m=k\n",
    "  for i in k..(a.length()-1)\n",
    "    if abs(a[i][k])>abs(a[m][k]) then\n",
    "      m=i\n",
    "    else\n",
    "      m=m\n",
    "    end\n",
    "  end\n",
    "  m\n",
    "end\n",
    "\n",
    "\n",
    "\n",
    "def abs(x)\n",
    "  if x<0 then\n",
    "    -x\n",
    "  else\n",
    "    x\n",
    "  end\n",
    "end\n",
    "\n",
    "def swap(a,k,max)\n",
    "    m=a[max]\n",
    "    a[max]=a[k]\n",
    "    a[k]=m\n",
    "end\n",
    "\n",
    "a=[[1,-50,-3,-90],[-85,2,-25,-6],[79,5,30,-1]]\n",
    "gjp(a)"
   ]
  },
  {
   "cell_type": "code",
   "execution_count": null,
   "metadata": {
    "collapsed": true
   },
   "outputs": [],
   "source": []
  }
 ],
 "metadata": {
  "kernelspec": {
   "display_name": "Ruby 2.1.9",
   "language": "ruby",
   "name": "ruby"
  },
  "language_info": {
   "file_extension": ".rb",
   "mimetype": "application/x-ruby",
   "name": "ruby",
   "version": "2.1.9"
  }
 },
 "nbformat": 4,
 "nbformat_minor": 0
}
